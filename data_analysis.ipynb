{
 "cells": [
  {
   "cell_type": "code",
   "execution_count": 1,
   "metadata": {},
   "outputs": [],
   "source": [
    "import json\n",
    "import os"
   ]
  },
  {
   "cell_type": "markdown",
   "metadata": {},
   "source": [
    "# Read data"
   ]
  },
  {
   "cell_type": "code",
   "execution_count": 2,
   "metadata": {},
   "outputs": [],
   "source": [
    "activity_names = os.listdir('data/ac')\n",
    "operator_names = os.listdir('data/op')"
   ]
  },
  {
   "cell_type": "markdown",
   "metadata": {},
   "source": [
    "Activities have:\n",
    "```\n",
    "activity.json\n",
    "config.json\n",
    "object.json\n",
    "product.json\n",
    "```\n",
    "\n",
    "Operators have:\n",
    "```\n",
    "config.json\n",
    "object.json\n",
    "product.json\n",
    "```"
   ]
  },
  {
   "cell_type": "code",
   "execution_count": 3,
   "metadata": {},
   "outputs": [],
   "source": [
    "class Activity:\n",
    "    \n",
    "    def __init__(self, name):\n",
    "        self.name = name\n",
    "        \n",
    "        with open(f'data/ac/{self.name}/activity.json') as f:\n",
    "            self.activity = json.load(f)\n",
    "        with open(f'data/ac/{self.name}/config.json') as f:\n",
    "            self.config = json.load(f)\n",
    "        with open(f'data/ac/{self.name}/object.json') as f:\n",
    "            self.object = json.load(f)\n",
    "        with open(f'data/ac/{self.name}/product.json') as f:\n",
    "            self.product = json.load(f)\n",
    "            \n",
    "class Operator:\n",
    "    \n",
    "    def __init__(self, name):\n",
    "        self.name = name\n",
    "        \n",
    "        with open(f'data/op/{self.name}/config.json') as f:\n",
    "            self.config = json.load(f)\n",
    "        with open(f'data/op/{self.name}/object.json') as f:\n",
    "            self.object = json.load(f)\n",
    "        with open(f'data/op/{self.name}/product.json') as f:\n",
    "            self.product = json.load(f)"
   ]
  },
  {
   "cell_type": "code",
   "execution_count": 4,
   "metadata": {},
   "outputs": [],
   "source": [
    "class Activities:pass\n",
    "activities = Activities()\n",
    "\n",
    "for a in activity_names:  \n",
    "    setattr(activities, f\"_{a.split('__')[0].replace('-', '_')}\", Activity(name=a))"
   ]
  },
  {
   "cell_type": "code",
   "execution_count": 5,
   "metadata": {},
   "outputs": [],
   "source": [
    "class Operators: pass\n",
    "operators = Operators() \n",
    "\n",
    "for o in operator_names:\n",
    "    setattr(operators, f\"_{o.split('__')[0].replace('-', '_')}\", Operator(name=o))"
   ]
  },
  {
   "cell_type": "markdown",
   "metadata": {},
   "source": [
    "# Use data"
   ]
  },
  {
   "cell_type": "markdown",
   "metadata": {},
   "source": [
    "Example of how to call the activity '10-dashboard-activity' from the set of activities (`activities._10_dashboard_activity`) and get the content of `activity.json` (with `.activity`)."
   ]
  },
  {
   "cell_type": "code",
   "execution_count": 6,
   "metadata": {
    "scrolled": true
   },
   "outputs": [
    {
     "data": {
      "text/plain": [
       "{'_id': 'ck3yv0jj802lh01ywfr9a7e7b',\n",
       " 'length': 2,\n",
       " 'plane': 3,\n",
       " 'startTime': 19,\n",
       " 'title': 'Dashboard activity',\n",
       " 'activityType': 'ac-dash',\n",
       " 'configVersion': 1,\n",
       " 'graphId': 'ck3yv0jj602l501yw6nbabhtd',\n",
       " 'participationMode': 'projector',\n",
       " 'state': 'computed',\n",
       " 'actualStartingTime': '2019-12-10T09:19:54.988Z',\n",
       " 'actualClosingTime': '2019-12-10T09:21:41.793Z'}"
      ]
     },
     "execution_count": 6,
     "metadata": {},
     "output_type": "execute_result"
    }
   ],
   "source": [
    "activities._10_dashboard_activity.activity"
   ]
  },
  {
   "cell_type": "markdown",
   "metadata": {},
   "source": [
    "Same goes for the operators. But we only have one operator (`._manually_group`) so only this one will be called. Also, getting the content of the `config.json` is done with `.config`"
   ]
  },
  {
   "cell_type": "code",
   "execution_count": 7,
   "metadata": {},
   "outputs": [
    {
     "data": {
      "text/plain": [
       "{'groupingKeys': 'group',\n",
       " 'studentmapping': 'oriane_peter,same1\\nantoine_clivaz,same1\\nguilhem_sicard,same2\\njohan_barthas,same2\\nalfonso_fernandez,same3\\nmarcel_moya,same3\\nnatalia_gullon,same3\\ngiacomo_alliata,same4\\nguido_sergi,same4\\nmax_schnaubelt,same5\\nanel_muhamedagic,same5\\nkiarash_farivar,mixed1\\nambroise_renaud,mixed1\\njoshua_lowin,mixed1\\nsofia_kypraiou,mixed2\\nmahmoud_said,mixed2\\nlukas_deloose,mixed3\\nthanuditha_wickramasinghe,mixed3\\narnaud_garin,mixed3\\nkim_haeeun,mixed4\\ngraziano_rossini,mixed4\\nalexandre_thimonier,mixed5\\nanna_andersson,mixed5\\n',\n",
       " 'defaultGroupingValues': 'undefined'}"
      ]
     },
     "execution_count": 7,
     "metadata": {},
     "output_type": "execute_result"
    }
   ],
   "source": [
    "operators._manually_group.config"
   ]
  },
  {
   "cell_type": "code",
   "execution_count": null,
   "metadata": {},
   "outputs": [],
   "source": []
  }
 ],
 "metadata": {
  "kernelspec": {
   "display_name": "Python 3",
   "language": "python",
   "name": "python3"
  },
  "language_info": {
   "codemirror_mode": {
    "name": "ipython",
    "version": 3
   },
   "file_extension": ".py",
   "mimetype": "text/x-python",
   "name": "python",
   "nbconvert_exporter": "python",
   "pygments_lexer": "ipython3",
   "version": "3.6.8"
  }
 },
 "nbformat": 4,
 "nbformat_minor": 2
}
