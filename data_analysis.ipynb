{
 "cells": [
  {
   "cell_type": "markdown",
   "metadata": {},
   "source": [
    "# Analyse data"
   ]
  },
  {
   "cell_type": "markdown",
   "metadata": {},
   "source": [
    "# Individual Quizes"
   ]
  },
  {
   "cell_type": "code",
   "execution_count": 1,
   "metadata": {},
   "outputs": [],
   "source": [
    "import numpy as np\n",
    "import pandas as pd\n",
    "import seaborn as sns\n",
    "import matplotlib.pyplot as plt\n",
    "from matplotlib import rcParams\n",
    "\n",
    "%matplotlib inline"
   ]
  },
  {
   "cell_type": "code",
   "execution_count": 2,
   "metadata": {},
   "outputs": [],
   "source": [
    "sns.set(style=\"white\", color_codes=True)\n",
    "sns.set(style=\"whitegrid\")"
   ]
  },
  {
   "cell_type": "markdown",
   "metadata": {},
   "source": [
    "### Read data"
   ]
  },
  {
   "cell_type": "code",
   "execution_count": 3,
   "metadata": {},
   "outputs": [],
   "source": [
    "q1 = np.load('scores/Pre_Quiz_Scores.npy', allow_pickle=True).item()\n",
    "q2 = np.load('scores/Final_Quiz_Scores.npy', allow_pickle=True).item()\n",
    "q3 = np.load('scores/Map_Scores.npy', allow_pickle=True).item()"
   ]
  },
  {
   "cell_type": "code",
   "execution_count": 4,
   "metadata": {},
   "outputs": [],
   "source": [
    "students = list(q1.keys())\n",
    "data = {\"student\": list(q1.keys()), \n",
    "        \"pre_quiz\": [q1[x][0] for x in students],\n",
    "        \"pre_quiz_norm\": [q1[x][1]*100 for x in students],\n",
    "        \"post_quiz\": [q2[x][0] for x in students],\n",
    "        \"post_quiz_norm\": [q2[x][1]*100 for x in students],\n",
    "        \"map_quiz\": [q3[x][0] for x in students],\n",
    "        \"map_quiz_norm\": [q3[x][1]*100 for x in students],\n",
    "        \"student_anon\": [f\"student #{i+1}\" for i in range(len(students))]}\n",
    "df_students = pd.DataFrame(data)"
   ]
  },
  {
   "cell_type": "code",
   "execution_count": 5,
   "metadata": {},
   "outputs": [],
   "source": [
    "# map students to their nationality\n",
    "nationality_mapping = {\"oriane_peter\": \"swiss\",\n",
    "                      \"antoine_clivaz\": \"swiss\",\n",
    "                      \"thanuditha_wickramasinghe\": \"sri lankan\",\n",
    "                      \"graziano_rossini\": \"swiss\",\n",
    "                      \"alfonso_fernandez\": \"spanish\",\n",
    "                      \"marcel_moya\": \"spanish\",\n",
    "                      \"lukas_deloose\": \"belgian\",\n",
    "                      \"anel_muhamedagic\": \"german\",\n",
    "                      \"alexandre_thimonier\": \"greek\",\n",
    "                      \"guido_sergi\": \"italian\",\n",
    "                      \"kim_haeeun\": \"korean\",\n",
    "                      \"giacomo_alliata\": \"italian\",\n",
    "                      \"ambroise_renaud\": \"french\",\n",
    "                      \"arnaud_garin\": \"swiss\",\n",
    "                      \"kiarash_farivar\": \"iranian\",\n",
    "                      \"kevin\": \"korean\",\n",
    "                      \"louis\": \"french\",\n",
    "                      \"anna_andersson\": \"swedish\",\n",
    "                      \"natalia_gullon\": \"spanish\",\n",
    "                      \"max_schnaubelt\": \"german\"}\n",
    "df_students[\"nationality\"] = df_students.apply(lambda x: nationality_mapping[x.student], axis=1)\n",
    "#df_students['student'][7] = \"sofia_kypraiou\""
   ]
  },
  {
   "cell_type": "code",
   "execution_count": 6,
   "metadata": {},
   "outputs": [
    {
     "name": "stdout",
     "output_type": "stream",
     "text": [
      "(20, 9)\n"
     ]
    },
    {
     "data": {
      "text/html": [
       "<div>\n",
       "<style scoped>\n",
       "    .dataframe tbody tr th:only-of-type {\n",
       "        vertical-align: middle;\n",
       "    }\n",
       "\n",
       "    .dataframe tbody tr th {\n",
       "        vertical-align: top;\n",
       "    }\n",
       "\n",
       "    .dataframe thead th {\n",
       "        text-align: right;\n",
       "    }\n",
       "</style>\n",
       "<table border=\"1\" class=\"dataframe\">\n",
       "  <thead>\n",
       "    <tr style=\"text-align: right;\">\n",
       "      <th></th>\n",
       "      <th>student</th>\n",
       "      <th>pre_quiz</th>\n",
       "      <th>pre_quiz_norm</th>\n",
       "      <th>post_quiz</th>\n",
       "      <th>post_quiz_norm</th>\n",
       "      <th>map_quiz</th>\n",
       "      <th>map_quiz_norm</th>\n",
       "      <th>student_anon</th>\n",
       "      <th>nationality</th>\n",
       "    </tr>\n",
       "  </thead>\n",
       "  <tbody>\n",
       "    <tr>\n",
       "      <td>0</td>\n",
       "      <td>oriane_peter</td>\n",
       "      <td>0</td>\n",
       "      <td>0.000000</td>\n",
       "      <td>6</td>\n",
       "      <td>100.000000</td>\n",
       "      <td>2</td>\n",
       "      <td>66.666667</td>\n",
       "      <td>student #1</td>\n",
       "      <td>swiss</td>\n",
       "    </tr>\n",
       "    <tr>\n",
       "      <td>1</td>\n",
       "      <td>thanuditha_wickramasinghe</td>\n",
       "      <td>2</td>\n",
       "      <td>33.333333</td>\n",
       "      <td>5</td>\n",
       "      <td>83.333333</td>\n",
       "      <td>0</td>\n",
       "      <td>0.000000</td>\n",
       "      <td>student #2</td>\n",
       "      <td>sri lankan</td>\n",
       "    </tr>\n",
       "    <tr>\n",
       "      <td>2</td>\n",
       "      <td>graziano_rossini</td>\n",
       "      <td>2</td>\n",
       "      <td>33.333333</td>\n",
       "      <td>4</td>\n",
       "      <td>66.666667</td>\n",
       "      <td>2</td>\n",
       "      <td>66.666667</td>\n",
       "      <td>student #3</td>\n",
       "      <td>swiss</td>\n",
       "    </tr>\n",
       "    <tr>\n",
       "      <td>3</td>\n",
       "      <td>alfonso_fernandez</td>\n",
       "      <td>1</td>\n",
       "      <td>16.666667</td>\n",
       "      <td>4</td>\n",
       "      <td>66.666667</td>\n",
       "      <td>2</td>\n",
       "      <td>66.666667</td>\n",
       "      <td>student #4</td>\n",
       "      <td>spanish</td>\n",
       "    </tr>\n",
       "    <tr>\n",
       "      <td>4</td>\n",
       "      <td>marcel_moya</td>\n",
       "      <td>1</td>\n",
       "      <td>16.666667</td>\n",
       "      <td>5</td>\n",
       "      <td>83.333333</td>\n",
       "      <td>2</td>\n",
       "      <td>66.666667</td>\n",
       "      <td>student #5</td>\n",
       "      <td>spanish</td>\n",
       "    </tr>\n",
       "    <tr>\n",
       "      <td>5</td>\n",
       "      <td>lukas_deloose</td>\n",
       "      <td>0</td>\n",
       "      <td>0.000000</td>\n",
       "      <td>5</td>\n",
       "      <td>83.333333</td>\n",
       "      <td>2</td>\n",
       "      <td>66.666667</td>\n",
       "      <td>student #6</td>\n",
       "      <td>belgian</td>\n",
       "    </tr>\n",
       "    <tr>\n",
       "      <td>6</td>\n",
       "      <td>anel_muhamedagic</td>\n",
       "      <td>1</td>\n",
       "      <td>16.666667</td>\n",
       "      <td>5</td>\n",
       "      <td>83.333333</td>\n",
       "      <td>3</td>\n",
       "      <td>100.000000</td>\n",
       "      <td>student #7</td>\n",
       "      <td>german</td>\n",
       "    </tr>\n",
       "    <tr>\n",
       "      <td>7</td>\n",
       "      <td>alexandre_thimonier</td>\n",
       "      <td>2</td>\n",
       "      <td>33.333333</td>\n",
       "      <td>4</td>\n",
       "      <td>66.666667</td>\n",
       "      <td>2</td>\n",
       "      <td>66.666667</td>\n",
       "      <td>student #8</td>\n",
       "      <td>greek</td>\n",
       "    </tr>\n",
       "    <tr>\n",
       "      <td>8</td>\n",
       "      <td>guido_sergi</td>\n",
       "      <td>1</td>\n",
       "      <td>16.666667</td>\n",
       "      <td>5</td>\n",
       "      <td>83.333333</td>\n",
       "      <td>1</td>\n",
       "      <td>33.333333</td>\n",
       "      <td>student #9</td>\n",
       "      <td>italian</td>\n",
       "    </tr>\n",
       "    <tr>\n",
       "      <td>9</td>\n",
       "      <td>kim_haeeun</td>\n",
       "      <td>2</td>\n",
       "      <td>33.333333</td>\n",
       "      <td>5</td>\n",
       "      <td>83.333333</td>\n",
       "      <td>2</td>\n",
       "      <td>66.666667</td>\n",
       "      <td>student #10</td>\n",
       "      <td>korean</td>\n",
       "    </tr>\n",
       "    <tr>\n",
       "      <td>10</td>\n",
       "      <td>giacomo_alliata</td>\n",
       "      <td>2</td>\n",
       "      <td>33.333333</td>\n",
       "      <td>5</td>\n",
       "      <td>83.333333</td>\n",
       "      <td>3</td>\n",
       "      <td>100.000000</td>\n",
       "      <td>student #11</td>\n",
       "      <td>italian</td>\n",
       "    </tr>\n",
       "    <tr>\n",
       "      <td>11</td>\n",
       "      <td>ambroise_renaud</td>\n",
       "      <td>1</td>\n",
       "      <td>16.666667</td>\n",
       "      <td>4</td>\n",
       "      <td>66.666667</td>\n",
       "      <td>0</td>\n",
       "      <td>0.000000</td>\n",
       "      <td>student #12</td>\n",
       "      <td>french</td>\n",
       "    </tr>\n",
       "    <tr>\n",
       "      <td>12</td>\n",
       "      <td>arnaud_garin</td>\n",
       "      <td>3</td>\n",
       "      <td>50.000000</td>\n",
       "      <td>6</td>\n",
       "      <td>100.000000</td>\n",
       "      <td>3</td>\n",
       "      <td>100.000000</td>\n",
       "      <td>student #13</td>\n",
       "      <td>swiss</td>\n",
       "    </tr>\n",
       "    <tr>\n",
       "      <td>13</td>\n",
       "      <td>kiarash_farivar</td>\n",
       "      <td>2</td>\n",
       "      <td>33.333333</td>\n",
       "      <td>2</td>\n",
       "      <td>33.333333</td>\n",
       "      <td>1</td>\n",
       "      <td>33.333333</td>\n",
       "      <td>student #14</td>\n",
       "      <td>iranian</td>\n",
       "    </tr>\n",
       "    <tr>\n",
       "      <td>14</td>\n",
       "      <td>kevin</td>\n",
       "      <td>2</td>\n",
       "      <td>33.333333</td>\n",
       "      <td>6</td>\n",
       "      <td>100.000000</td>\n",
       "      <td>1</td>\n",
       "      <td>33.333333</td>\n",
       "      <td>student #15</td>\n",
       "      <td>korean</td>\n",
       "    </tr>\n",
       "    <tr>\n",
       "      <td>15</td>\n",
       "      <td>louis</td>\n",
       "      <td>1</td>\n",
       "      <td>16.666667</td>\n",
       "      <td>5</td>\n",
       "      <td>83.333333</td>\n",
       "      <td>2</td>\n",
       "      <td>66.666667</td>\n",
       "      <td>student #16</td>\n",
       "      <td>french</td>\n",
       "    </tr>\n",
       "    <tr>\n",
       "      <td>16</td>\n",
       "      <td>anna_andersson</td>\n",
       "      <td>3</td>\n",
       "      <td>50.000000</td>\n",
       "      <td>4</td>\n",
       "      <td>66.666667</td>\n",
       "      <td>3</td>\n",
       "      <td>100.000000</td>\n",
       "      <td>student #17</td>\n",
       "      <td>swedish</td>\n",
       "    </tr>\n",
       "    <tr>\n",
       "      <td>17</td>\n",
       "      <td>natalia_gullon</td>\n",
       "      <td>1</td>\n",
       "      <td>16.666667</td>\n",
       "      <td>4</td>\n",
       "      <td>66.666667</td>\n",
       "      <td>2</td>\n",
       "      <td>66.666667</td>\n",
       "      <td>student #18</td>\n",
       "      <td>spanish</td>\n",
       "    </tr>\n",
       "    <tr>\n",
       "      <td>18</td>\n",
       "      <td>max_schnaubelt</td>\n",
       "      <td>0</td>\n",
       "      <td>0.000000</td>\n",
       "      <td>4</td>\n",
       "      <td>66.666667</td>\n",
       "      <td>3</td>\n",
       "      <td>100.000000</td>\n",
       "      <td>student #19</td>\n",
       "      <td>german</td>\n",
       "    </tr>\n",
       "    <tr>\n",
       "      <td>19</td>\n",
       "      <td>antoine_clivaz</td>\n",
       "      <td>2</td>\n",
       "      <td>33.333333</td>\n",
       "      <td>6</td>\n",
       "      <td>100.000000</td>\n",
       "      <td>3</td>\n",
       "      <td>100.000000</td>\n",
       "      <td>student #20</td>\n",
       "      <td>swiss</td>\n",
       "    </tr>\n",
       "  </tbody>\n",
       "</table>\n",
       "</div>"
      ],
      "text/plain": [
       "                      student  pre_quiz  pre_quiz_norm  post_quiz  \\\n",
       "0                oriane_peter         0       0.000000          6   \n",
       "1   thanuditha_wickramasinghe         2      33.333333          5   \n",
       "2            graziano_rossini         2      33.333333          4   \n",
       "3           alfonso_fernandez         1      16.666667          4   \n",
       "4                 marcel_moya         1      16.666667          5   \n",
       "5               lukas_deloose         0       0.000000          5   \n",
       "6            anel_muhamedagic         1      16.666667          5   \n",
       "7         alexandre_thimonier         2      33.333333          4   \n",
       "8                 guido_sergi         1      16.666667          5   \n",
       "9                  kim_haeeun         2      33.333333          5   \n",
       "10            giacomo_alliata         2      33.333333          5   \n",
       "11            ambroise_renaud         1      16.666667          4   \n",
       "12               arnaud_garin         3      50.000000          6   \n",
       "13            kiarash_farivar         2      33.333333          2   \n",
       "14                      kevin         2      33.333333          6   \n",
       "15                      louis         1      16.666667          5   \n",
       "16             anna_andersson         3      50.000000          4   \n",
       "17             natalia_gullon         1      16.666667          4   \n",
       "18             max_schnaubelt         0       0.000000          4   \n",
       "19             antoine_clivaz         2      33.333333          6   \n",
       "\n",
       "    post_quiz_norm  map_quiz  map_quiz_norm student_anon nationality  \n",
       "0       100.000000         2      66.666667   student #1       swiss  \n",
       "1        83.333333         0       0.000000   student #2  sri lankan  \n",
       "2        66.666667         2      66.666667   student #3       swiss  \n",
       "3        66.666667         2      66.666667   student #4     spanish  \n",
       "4        83.333333         2      66.666667   student #5     spanish  \n",
       "5        83.333333         2      66.666667   student #6     belgian  \n",
       "6        83.333333         3     100.000000   student #7      german  \n",
       "7        66.666667         2      66.666667   student #8       greek  \n",
       "8        83.333333         1      33.333333   student #9     italian  \n",
       "9        83.333333         2      66.666667  student #10      korean  \n",
       "10       83.333333         3     100.000000  student #11     italian  \n",
       "11       66.666667         0       0.000000  student #12      french  \n",
       "12      100.000000         3     100.000000  student #13       swiss  \n",
       "13       33.333333         1      33.333333  student #14     iranian  \n",
       "14      100.000000         1      33.333333  student #15      korean  \n",
       "15       83.333333         2      66.666667  student #16      french  \n",
       "16       66.666667         3     100.000000  student #17     swedish  \n",
       "17       66.666667         2      66.666667  student #18     spanish  \n",
       "18       66.666667         3     100.000000  student #19      german  \n",
       "19      100.000000         3     100.000000  student #20       swiss  "
      ]
     },
     "execution_count": 6,
     "metadata": {},
     "output_type": "execute_result"
    }
   ],
   "source": [
    "print(df_students.shape)\n",
    "df_students"
   ]
  },
  {
   "cell_type": "markdown",
   "metadata": {},
   "source": [
    "### Individual Stats"
   ]
  },
  {
   "cell_type": "code",
   "execution_count": 7,
   "metadata": {},
   "outputs": [
    {
     "data": {
      "text/html": [
       "<div>\n",
       "<style scoped>\n",
       "    .dataframe tbody tr th:only-of-type {\n",
       "        vertical-align: middle;\n",
       "    }\n",
       "\n",
       "    .dataframe tbody tr th {\n",
       "        vertical-align: top;\n",
       "    }\n",
       "\n",
       "    .dataframe thead th {\n",
       "        text-align: right;\n",
       "    }\n",
       "</style>\n",
       "<table border=\"1\" class=\"dataframe\">\n",
       "  <thead>\n",
       "    <tr style=\"text-align: right;\">\n",
       "      <th></th>\n",
       "      <th>pre_quiz</th>\n",
       "      <th>pre_quiz_norm</th>\n",
       "      <th>post_quiz</th>\n",
       "      <th>post_quiz_norm</th>\n",
       "      <th>map_quiz</th>\n",
       "      <th>map_quiz_norm</th>\n",
       "    </tr>\n",
       "  </thead>\n",
       "  <tbody>\n",
       "    <tr>\n",
       "      <td>count</td>\n",
       "      <td>20.000000</td>\n",
       "      <td>20.000000</td>\n",
       "      <td>20.000000</td>\n",
       "      <td>20.000000</td>\n",
       "      <td>20.000000</td>\n",
       "      <td>20.000000</td>\n",
       "    </tr>\n",
       "    <tr>\n",
       "      <td>mean</td>\n",
       "      <td>1.450000</td>\n",
       "      <td>24.166667</td>\n",
       "      <td>4.700000</td>\n",
       "      <td>78.333333</td>\n",
       "      <td>1.950000</td>\n",
       "      <td>65.000000</td>\n",
       "    </tr>\n",
       "    <tr>\n",
       "      <td>std</td>\n",
       "      <td>0.887041</td>\n",
       "      <td>14.784020</td>\n",
       "      <td>0.978721</td>\n",
       "      <td>16.312016</td>\n",
       "      <td>0.944513</td>\n",
       "      <td>31.483775</td>\n",
       "    </tr>\n",
       "    <tr>\n",
       "      <td>min</td>\n",
       "      <td>0.000000</td>\n",
       "      <td>0.000000</td>\n",
       "      <td>2.000000</td>\n",
       "      <td>33.333333</td>\n",
       "      <td>0.000000</td>\n",
       "      <td>0.000000</td>\n",
       "    </tr>\n",
       "    <tr>\n",
       "      <td>25%</td>\n",
       "      <td>1.000000</td>\n",
       "      <td>16.666667</td>\n",
       "      <td>4.000000</td>\n",
       "      <td>66.666667</td>\n",
       "      <td>1.750000</td>\n",
       "      <td>58.333333</td>\n",
       "    </tr>\n",
       "    <tr>\n",
       "      <td>50%</td>\n",
       "      <td>1.500000</td>\n",
       "      <td>25.000000</td>\n",
       "      <td>5.000000</td>\n",
       "      <td>83.333333</td>\n",
       "      <td>2.000000</td>\n",
       "      <td>66.666667</td>\n",
       "    </tr>\n",
       "    <tr>\n",
       "      <td>75%</td>\n",
       "      <td>2.000000</td>\n",
       "      <td>33.333333</td>\n",
       "      <td>5.000000</td>\n",
       "      <td>83.333333</td>\n",
       "      <td>3.000000</td>\n",
       "      <td>100.000000</td>\n",
       "    </tr>\n",
       "    <tr>\n",
       "      <td>max</td>\n",
       "      <td>3.000000</td>\n",
       "      <td>50.000000</td>\n",
       "      <td>6.000000</td>\n",
       "      <td>100.000000</td>\n",
       "      <td>3.000000</td>\n",
       "      <td>100.000000</td>\n",
       "    </tr>\n",
       "  </tbody>\n",
       "</table>\n",
       "</div>"
      ],
      "text/plain": [
       "        pre_quiz  pre_quiz_norm  post_quiz  post_quiz_norm   map_quiz  \\\n",
       "count  20.000000      20.000000  20.000000       20.000000  20.000000   \n",
       "mean    1.450000      24.166667   4.700000       78.333333   1.950000   \n",
       "std     0.887041      14.784020   0.978721       16.312016   0.944513   \n",
       "min     0.000000       0.000000   2.000000       33.333333   0.000000   \n",
       "25%     1.000000      16.666667   4.000000       66.666667   1.750000   \n",
       "50%     1.500000      25.000000   5.000000       83.333333   2.000000   \n",
       "75%     2.000000      33.333333   5.000000       83.333333   3.000000   \n",
       "max     3.000000      50.000000   6.000000      100.000000   3.000000   \n",
       "\n",
       "       map_quiz_norm  \n",
       "count      20.000000  \n",
       "mean       65.000000  \n",
       "std        31.483775  \n",
       "min         0.000000  \n",
       "25%        58.333333  \n",
       "50%        66.666667  \n",
       "75%       100.000000  \n",
       "max       100.000000  "
      ]
     },
     "execution_count": 7,
     "metadata": {},
     "output_type": "execute_result"
    }
   ],
   "source": [
    "df_students.describe()"
   ]
  },
  {
   "cell_type": "markdown",
   "metadata": {},
   "source": [
    "### What is the distribution of nationalities?"
   ]
  },
  {
   "cell_type": "code",
   "execution_count": 8,
   "metadata": {},
   "outputs": [
    {
     "data": {
      "image/png": "[encoded data removed]",
      "text/plain": [
       "<Figure size 432x288 with 1 Axes>"
      ]
     },
     "metadata": {},
     "output_type": "display_data"
    }
   ],
   "source": [
    "sns.countplot(x=\"nationality\", data=df_students, order=df_students['nationality'].value_counts().index);"
   ]
  },
  {
   "cell_type": "markdown",
   "metadata": {},
   "source": [
    "### On which type of questions did students perform better: DGSM or SGDM?"
   ]
  },
  {
   "cell_type": "code",
   "execution_count": 9,
   "metadata": {},
   "outputs": [
    {
     "data": {
      "image/png": "[encoded data removed]",
      "text/plain": [
       "<Figure size 792x576 with 1 Axes>"
      ]
     },
     "metadata": {},
     "output_type": "display_data"
    }
   ],
   "source": [
    "sns.set_context({\"figure.figsize\": (11,8)})\n",
    "sns.boxplot(data=df_students[[\"pre_quiz_norm\", \"post_quiz_norm\", \"map_quiz_norm\"]], orient=\"w\", palette=\"Set2\")\n",
    "sns.despine(offset=10, trim=True)\n",
    "\n",
    "plt.ylabel(\"Score [%]\")\n",
    "plt.xlabel(\"Quiz type\");"
   ]
  },
  {
   "cell_type": "code",
   "execution_count": 10,
   "metadata": {},
   "outputs": [
    {
     "data": {
      "image/png": "[encoded data removed]",
      "text/plain": [
       "<Figure size 792x576 with 1 Axes>"
      ]
     },
     "metadata": {},
     "output_type": "display_data"
    }
   ],
   "source": [
    "sns.boxplot(data=df_students[[\"pre_quiz_norm\", \"post_quiz_norm\", \"map_quiz_norm\"]], orient=\"w\", palette=\"Set2\")\n",
    "sns.despine(offset=10, trim=True)\n",
    "sns.swarmplot(data=df_students[[\"pre_quiz_norm\", \"post_quiz_norm\", \"map_quiz_norm\"]], color=\".25\")\n",
    "\n",
    "plt.ylabel(\"Score [%]\")\n",
    "plt.xlabel(\"Quiz type\");"
   ]
  },
  {
   "cell_type": "markdown",
   "metadata": {},
   "source": [
    "### What is density distribution for the Pre-Quiz vs. Post-Quiz results?"
   ]
  },
  {
   "cell_type": "code",
   "execution_count": 11,
   "metadata": {},
   "outputs": [
    {
     "name": "stderr",
     "output_type": "stream",
     "text": [
      "/home/jelena/anaconda3/lib/python3.6/site-packages/scipy/stats/stats.py:1713: FutureWarning: Using a non-tuple sequence for multidimensional indexing is deprecated; use `arr[tuple(seq)]` instead of `arr[seq]`. In the future this will be interpreted as an array index, `arr[np.array(seq)]`, which will result either in an error or a different result.\n",
      "  return np.add.reduce(sorted[indexer] * weights, axis=axis) / sumval\n"
     ]
    },
    {
     "data": {
      "image/png": "[encoded data removed]",
      "text/plain": [
       "<Figure size 792x792 with 3 Axes>"
      ]
     },
     "metadata": {},
     "output_type": "display_data"
    }
   ],
   "source": [
    "sns.set(style=\"white\", color_codes=True)\n",
    "sns.set(style=\"whitegrid\")\n",
    "g = sns.jointplot(x=\"pre_quiz_norm\", y=\"post_quiz_norm\", data=df_students, kind=\"kde\", color=\"g\", height=11,joint_kws=dict(shade_lowest=False))  # \"reg\", \"kde\"\n",
    "g.ax_marg_x.set_xlim(0, 100)\n",
    "g.ax_marg_y.set_ylim(0, 100)\n",
    "\n",
    "g.ax_joint.set_xlabel('Pre Quiz performance')\n",
    "g.ax_joint.set_ylabel('Post Quiz performance');"
   ]
  },
  {
   "cell_type": "markdown",
   "metadata": {},
   "source": [
    "### What is the performance of each student on Pre-Quiz vs. Post-Quiz?"
   ]
  },
  {
   "cell_type": "code",
   "execution_count": 12,
   "metadata": {},
   "outputs": [
    {
     "data": {
      "text/html": [
       "<div>\n",
       "<style scoped>\n",
       "    .dataframe tbody tr th:only-of-type {\n",
       "        vertical-align: middle;\n",
       "    }\n",
       "\n",
       "    .dataframe tbody tr th {\n",
       "        vertical-align: top;\n",
       "    }\n",
       "\n",
       "    .dataframe thead th {\n",
       "        text-align: right;\n",
       "    }\n",
       "</style>\n",
       "<table border=\"1\" class=\"dataframe\">\n",
       "  <thead>\n",
       "    <tr style=\"text-align: right;\">\n",
       "      <th></th>\n",
       "      <th>student</th>\n",
       "      <th>student_anon</th>\n",
       "      <th>quiz</th>\n",
       "      <th>score</th>\n",
       "      <th>score_norm</th>\n",
       "    </tr>\n",
       "  </thead>\n",
       "  <tbody>\n",
       "    <tr>\n",
       "      <td>0</td>\n",
       "      <td>oriane_peter</td>\n",
       "      <td>student #1</td>\n",
       "      <td>pre-quiz</td>\n",
       "      <td>0</td>\n",
       "      <td>0.000000</td>\n",
       "    </tr>\n",
       "    <tr>\n",
       "      <td>1</td>\n",
       "      <td>thanuditha_wickramasinghe</td>\n",
       "      <td>student #2</td>\n",
       "      <td>pre-quiz</td>\n",
       "      <td>2</td>\n",
       "      <td>33.333333</td>\n",
       "    </tr>\n",
       "    <tr>\n",
       "      <td>2</td>\n",
       "      <td>graziano_rossini</td>\n",
       "      <td>student #3</td>\n",
       "      <td>pre-quiz</td>\n",
       "      <td>2</td>\n",
       "      <td>33.333333</td>\n",
       "    </tr>\n",
       "    <tr>\n",
       "      <td>3</td>\n",
       "      <td>alfonso_fernandez</td>\n",
       "      <td>student #4</td>\n",
       "      <td>pre-quiz</td>\n",
       "      <td>1</td>\n",
       "      <td>16.666667</td>\n",
       "    </tr>\n",
       "    <tr>\n",
       "      <td>4</td>\n",
       "      <td>marcel_moya</td>\n",
       "      <td>student #5</td>\n",
       "      <td>pre-quiz</td>\n",
       "      <td>1</td>\n",
       "      <td>16.666667</td>\n",
       "    </tr>\n",
       "  </tbody>\n",
       "</table>\n",
       "</div>"
      ],
      "text/plain": [
       "                     student student_anon      quiz  score  score_norm\n",
       "0               oriane_peter   student #1  pre-quiz      0    0.000000\n",
       "1  thanuditha_wickramasinghe   student #2  pre-quiz      2   33.333333\n",
       "2           graziano_rossini   student #3  pre-quiz      2   33.333333\n",
       "3          alfonso_fernandez   student #4  pre-quiz      1   16.666667\n",
       "4                marcel_moya   student #5  pre-quiz      1   16.666667"
      ]
     },
     "execution_count": 12,
     "metadata": {},
     "output_type": "execute_result"
    }
   ],
   "source": [
    "students = list(df_students[\"student\"])\n",
    "students_anon = list(df_students[\"student_anon\"])\n",
    "data = {\"student\": students*2,\n",
    "        \"student_anon\": students_anon*2,\n",
    "       \"quiz\": [\"pre-quiz\"]*len(students) + [\"post-quiz\"]*len(students),\n",
    "       \"score\": [q1[s][0] for s in students] + [q2[s][0] for s in students],\n",
    "       \"score_norm\": [q1[s][1]*100 for s in students] + [q2[s][1]*100 for s in students] }\n",
    "df = pd.DataFrame(data)\n",
    "df.head()"
   ]
  },
  {
   "cell_type": "code",
   "execution_count": 13,
   "metadata": {
    "scrolled": false
   },
   "outputs": [
    {
     "data": {
      "image/png": "[encoded data removed]",
      "text/plain": [
       "<Figure size 792x576 with 1 Axes>"
      ]
     },
     "metadata": {},
     "output_type": "display_data"
    }
   ],
   "source": [
    "sns.set(style=\"white\", color_codes=True)\n",
    "sns.set(style=\"whitegrid\")\n",
    "g = sns.barplot(x=\"student_anon\", y=\"score\", hue=\"quiz\", data=df, palette=[\"#F47C7C\", \"#A1DE93\"]);\n",
    "g.set_xticklabels(g.get_xticklabels(), rotation=90);"
   ]
  },
  {
   "cell_type": "code",
   "execution_count": 14,
   "metadata": {},
   "outputs": [
    {
     "data": {
      "image/png": "[encoded data removed]",
      "text/plain": [
       "<Figure size 792x576 with 1 Axes>"
      ]
     },
     "metadata": {},
     "output_type": "display_data"
    }
   ],
   "source": [
    "g = sns.barplot(x=\"student_anon\", y=\"score_norm\", hue=\"quiz\", data=df, palette=[\"#F47C7C\", \"#A1DE93\"]);\n",
    "g.set_xticklabels(g.get_xticklabels(), rotation=90);\n",
    "plt.ylabel(\"Score [%]\")\n",
    "plt.xlabel(\"Student\")\n",
    "plt.legend();"
   ]
  },
  {
   "cell_type": "markdown",
   "metadata": {},
   "source": [
    "### How much did studens learn (if at all)? "
   ]
  },
  {
   "cell_type": "code",
   "execution_count": 15,
   "metadata": {},
   "outputs": [
    {
     "data": {
      "image/png": "[encoded data removed]",
      "text/plain": [
       "<Figure size 792x576 with 1 Axes>"
      ]
     },
     "metadata": {},
     "output_type": "display_data"
    }
   ],
   "source": [
    "sns.barplot(x = df_students[\"student_anon\"], y = df_students[\"post_quiz\"], color=\"#72B6A1\", label=\"Post-Quiz\", palette=[\"#A1DE93\"])\n",
    "bottom_plot = sns.barplot(x = df_students[\"student_anon\"], y = df_students[\"pre_quiz\"], color=\"#E99675\", label = \"Pre-Quiz\", palette=[\"#F47C7C\"])\n",
    "\n",
    "bottom_plot.set_xticklabels(bottom_plot.get_xticklabels(), rotation=90);\n",
    "plt.ylabel(\"Score\")\n",
    "plt.xlabel(\"Student\")\n",
    "plt.legend();"
   ]
  },
  {
   "cell_type": "markdown",
   "metadata": {},
   "source": [
    "---"
   ]
  },
  {
   "cell_type": "markdown",
   "metadata": {},
   "source": [
    "# Team Quizes"
   ]
  },
  {
   "cell_type": "markdown",
   "metadata": {},
   "source": [
    "### Read data"
   ]
  },
  {
   "cell_type": "code",
   "execution_count": 16,
   "metadata": {},
   "outputs": [],
   "source": [
    "q4 = np.load('scores/DGSM_Scores.npy', allow_pickle=True).item()\n",
    "q5 = np.load('scores/SGDM_Scores.npy', allow_pickle=True).item()"
   ]
  },
  {
   "cell_type": "code",
   "execution_count": 17,
   "metadata": {},
   "outputs": [],
   "source": [
    "teams = list(q4.keys())\n",
    "data = {\"team\": teams, \n",
    "        \"DGSM\": [q4[x][0] for x in teams],  # 9 questions\n",
    "        \"DGSM_norm\": [q4[x][1]*100 for x in teams],\n",
    "        \"SGDM\": [q5[x][0] for x in teams],  # 9 questions\n",
    "        \"SGDM_norm\": [q5[x][1]*100 for x in teams]}\n",
    "df_teams = pd.DataFrame(data)\n",
    "df_teams[\"total\"] = df_teams.apply(lambda x: x[\"DGSM\"]+x[\"SGDM\"], axis=1)\n",
    "df_teams[\"total_norm\"] = df_teams.apply(lambda x: x[\"total\"]/18*100, axis=1)"
   ]
  },
  {
   "cell_type": "code",
   "execution_count": 18,
   "metadata": {},
   "outputs": [
    {
     "name": "stdout",
     "output_type": "stream",
     "text": [
      "(9, 7)\n"
     ]
    },
    {
     "data": {
      "text/html": [
       "<div>\n",
       "<style scoped>\n",
       "    .dataframe tbody tr th:only-of-type {\n",
       "        vertical-align: middle;\n",
       "    }\n",
       "\n",
       "    .dataframe tbody tr th {\n",
       "        vertical-align: top;\n",
       "    }\n",
       "\n",
       "    .dataframe thead th {\n",
       "        text-align: right;\n",
       "    }\n",
       "</style>\n",
       "<table border=\"1\" class=\"dataframe\">\n",
       "  <thead>\n",
       "    <tr style=\"text-align: right;\">\n",
       "      <th></th>\n",
       "      <th>team</th>\n",
       "      <th>DGSM</th>\n",
       "      <th>DGSM_norm</th>\n",
       "      <th>SGDM</th>\n",
       "      <th>SGDM_norm</th>\n",
       "      <th>total</th>\n",
       "      <th>total_norm</th>\n",
       "    </tr>\n",
       "  </thead>\n",
       "  <tbody>\n",
       "    <tr>\n",
       "      <td>0</td>\n",
       "      <td>mixed1</td>\n",
       "      <td>7</td>\n",
       "      <td>77.777778</td>\n",
       "      <td>5</td>\n",
       "      <td>55.555556</td>\n",
       "      <td>12</td>\n",
       "      <td>66.666667</td>\n",
       "    </tr>\n",
       "    <tr>\n",
       "      <td>1</td>\n",
       "      <td>mixed3</td>\n",
       "      <td>6</td>\n",
       "      <td>66.666667</td>\n",
       "      <td>8</td>\n",
       "      <td>88.888889</td>\n",
       "      <td>14</td>\n",
       "      <td>77.777778</td>\n",
       "    </tr>\n",
       "    <tr>\n",
       "      <td>2</td>\n",
       "      <td>mixed4</td>\n",
       "      <td>7</td>\n",
       "      <td>77.777778</td>\n",
       "      <td>7</td>\n",
       "      <td>77.777778</td>\n",
       "      <td>14</td>\n",
       "      <td>77.777778</td>\n",
       "    </tr>\n",
       "    <tr>\n",
       "      <td>3</td>\n",
       "      <td>mixed5</td>\n",
       "      <td>6</td>\n",
       "      <td>66.666667</td>\n",
       "      <td>8</td>\n",
       "      <td>88.888889</td>\n",
       "      <td>14</td>\n",
       "      <td>77.777778</td>\n",
       "    </tr>\n",
       "    <tr>\n",
       "      <td>4</td>\n",
       "      <td>same1</td>\n",
       "      <td>5</td>\n",
       "      <td>55.555556</td>\n",
       "      <td>8</td>\n",
       "      <td>88.888889</td>\n",
       "      <td>13</td>\n",
       "      <td>72.222222</td>\n",
       "    </tr>\n",
       "    <tr>\n",
       "      <td>5</td>\n",
       "      <td>same3</td>\n",
       "      <td>4</td>\n",
       "      <td>44.444444</td>\n",
       "      <td>8</td>\n",
       "      <td>88.888889</td>\n",
       "      <td>12</td>\n",
       "      <td>66.666667</td>\n",
       "    </tr>\n",
       "    <tr>\n",
       "      <td>6</td>\n",
       "      <td>same4</td>\n",
       "      <td>7</td>\n",
       "      <td>77.777778</td>\n",
       "      <td>7</td>\n",
       "      <td>77.777778</td>\n",
       "      <td>14</td>\n",
       "      <td>77.777778</td>\n",
       "    </tr>\n",
       "    <tr>\n",
       "      <td>7</td>\n",
       "      <td>same5</td>\n",
       "      <td>7</td>\n",
       "      <td>77.777778</td>\n",
       "      <td>7</td>\n",
       "      <td>77.777778</td>\n",
       "      <td>14</td>\n",
       "      <td>77.777778</td>\n",
       "    </tr>\n",
       "    <tr>\n",
       "      <td>8</td>\n",
       "      <td>mixed2</td>\n",
       "      <td>7</td>\n",
       "      <td>77.777778</td>\n",
       "      <td>8</td>\n",
       "      <td>88.888889</td>\n",
       "      <td>15</td>\n",
       "      <td>83.333333</td>\n",
       "    </tr>\n",
       "  </tbody>\n",
       "</table>\n",
       "</div>"
      ],
      "text/plain": [
       "     team  DGSM  DGSM_norm  SGDM  SGDM_norm  total  total_norm\n",
       "0  mixed1     7  77.777778     5  55.555556     12   66.666667\n",
       "1  mixed3     6  66.666667     8  88.888889     14   77.777778\n",
       "2  mixed4     7  77.777778     7  77.777778     14   77.777778\n",
       "3  mixed5     6  66.666667     8  88.888889     14   77.777778\n",
       "4   same1     5  55.555556     8  88.888889     13   72.222222\n",
       "5   same3     4  44.444444     8  88.888889     12   66.666667\n",
       "6   same4     7  77.777778     7  77.777778     14   77.777778\n",
       "7   same5     7  77.777778     7  77.777778     14   77.777778\n",
       "8  mixed2     7  77.777778     8  88.888889     15   83.333333"
      ]
     },
     "execution_count": 18,
     "metadata": {},
     "output_type": "execute_result"
    }
   ],
   "source": [
    "print(df_teams.shape)\n",
    "df_teams"
   ]
  },
  {
   "cell_type": "markdown",
   "metadata": {},
   "source": [
    "### Team Stats"
   ]
  },
  {
   "cell_type": "code",
   "execution_count": 19,
   "metadata": {
    "scrolled": true
   },
   "outputs": [
    {
     "data": {
      "text/html": [
       "<div>\n",
       "<style scoped>\n",
       "    .dataframe tbody tr th:only-of-type {\n",
       "        vertical-align: middle;\n",
       "    }\n",
       "\n",
       "    .dataframe tbody tr th {\n",
       "        vertical-align: top;\n",
       "    }\n",
       "\n",
       "    .dataframe thead th {\n",
       "        text-align: right;\n",
       "    }\n",
       "</style>\n",
       "<table border=\"1\" class=\"dataframe\">\n",
       "  <thead>\n",
       "    <tr style=\"text-align: right;\">\n",
       "      <th></th>\n",
       "      <th>DGSM</th>\n",
       "      <th>DGSM_norm</th>\n",
       "      <th>SGDM</th>\n",
       "      <th>SGDM_norm</th>\n",
       "      <th>total</th>\n",
       "      <th>total_norm</th>\n",
       "    </tr>\n",
       "  </thead>\n",
       "  <tbody>\n",
       "    <tr>\n",
       "      <td>count</td>\n",
       "      <td>9.000000</td>\n",
       "      <td>9.000000</td>\n",
       "      <td>9.000000</td>\n",
       "      <td>9.000000</td>\n",
       "      <td>9.000000</td>\n",
       "      <td>9.000000</td>\n",
       "    </tr>\n",
       "    <tr>\n",
       "      <td>mean</td>\n",
       "      <td>6.222222</td>\n",
       "      <td>69.135802</td>\n",
       "      <td>7.333333</td>\n",
       "      <td>81.481481</td>\n",
       "      <td>13.555556</td>\n",
       "      <td>75.308642</td>\n",
       "    </tr>\n",
       "    <tr>\n",
       "      <td>std</td>\n",
       "      <td>1.092906</td>\n",
       "      <td>12.143405</td>\n",
       "      <td>1.000000</td>\n",
       "      <td>11.111111</td>\n",
       "      <td>1.013794</td>\n",
       "      <td>5.632188</td>\n",
       "    </tr>\n",
       "    <tr>\n",
       "      <td>min</td>\n",
       "      <td>4.000000</td>\n",
       "      <td>44.444444</td>\n",
       "      <td>5.000000</td>\n",
       "      <td>55.555556</td>\n",
       "      <td>12.000000</td>\n",
       "      <td>66.666667</td>\n",
       "    </tr>\n",
       "    <tr>\n",
       "      <td>25%</td>\n",
       "      <td>6.000000</td>\n",
       "      <td>66.666667</td>\n",
       "      <td>7.000000</td>\n",
       "      <td>77.777778</td>\n",
       "      <td>13.000000</td>\n",
       "      <td>72.222222</td>\n",
       "    </tr>\n",
       "    <tr>\n",
       "      <td>50%</td>\n",
       "      <td>7.000000</td>\n",
       "      <td>77.777778</td>\n",
       "      <td>8.000000</td>\n",
       "      <td>88.888889</td>\n",
       "      <td>14.000000</td>\n",
       "      <td>77.777778</td>\n",
       "    </tr>\n",
       "    <tr>\n",
       "      <td>75%</td>\n",
       "      <td>7.000000</td>\n",
       "      <td>77.777778</td>\n",
       "      <td>8.000000</td>\n",
       "      <td>88.888889</td>\n",
       "      <td>14.000000</td>\n",
       "      <td>77.777778</td>\n",
       "    </tr>\n",
       "    <tr>\n",
       "      <td>max</td>\n",
       "      <td>7.000000</td>\n",
       "      <td>77.777778</td>\n",
       "      <td>8.000000</td>\n",
       "      <td>88.888889</td>\n",
       "      <td>15.000000</td>\n",
       "      <td>83.333333</td>\n",
       "    </tr>\n",
       "  </tbody>\n",
       "</table>\n",
       "</div>"
      ],
      "text/plain": [
       "           DGSM  DGSM_norm      SGDM  SGDM_norm      total  total_norm\n",
       "count  9.000000   9.000000  9.000000   9.000000   9.000000    9.000000\n",
       "mean   6.222222  69.135802  7.333333  81.481481  13.555556   75.308642\n",
       "std    1.092906  12.143405  1.000000  11.111111   1.013794    5.632188\n",
       "min    4.000000  44.444444  5.000000  55.555556  12.000000   66.666667\n",
       "25%    6.000000  66.666667  7.000000  77.777778  13.000000   72.222222\n",
       "50%    7.000000  77.777778  8.000000  88.888889  14.000000   77.777778\n",
       "75%    7.000000  77.777778  8.000000  88.888889  14.000000   77.777778\n",
       "max    7.000000  77.777778  8.000000  88.888889  15.000000   83.333333"
      ]
     },
     "execution_count": 19,
     "metadata": {},
     "output_type": "execute_result"
    }
   ],
   "source": [
    "df_teams.describe()"
   ]
  },
  {
   "cell_type": "markdown",
   "metadata": {},
   "source": [
    "### On which type of questions did teams perform better: DGSM or SGDM?"
   ]
  },
  {
   "cell_type": "code",
   "execution_count": 20,
   "metadata": {
    "scrolled": false
   },
   "outputs": [
    {
     "data": {
      "image/png": "[encoded data removed]",
      "text/plain": [
       "<Figure size 792x576 with 1 Axes>"
      ]
     },
     "metadata": {},
     "output_type": "display_data"
    }
   ],
   "source": [
    "sns.boxplot(data=df_teams[[\"DGSM_norm\", \"SGDM_norm\", \"total_norm\"]], orient=\"w\", palette=\"Set2\")\n",
    "sns.despine(offset=10, trim=True)\n",
    "\n",
    "plt.ylabel(\"Score [%]\");"
   ]
  },
  {
   "cell_type": "code",
   "execution_count": 21,
   "metadata": {},
   "outputs": [
    {
     "data": {
      "image/png": "[encoded data removed]",
      "text/plain": [
       "<Figure size 792x576 with 1 Axes>"
      ]
     },
     "metadata": {},
     "output_type": "display_data"
    }
   ],
   "source": [
    "sns.boxplot(data=df_teams[[\"DGSM_norm\", \"SGDM_norm\", \"total_norm\"]], orient=\"w\", palette=\"Set2\")\n",
    "sns.despine(offset=10, trim=True)\n",
    "sns.swarmplot(data=df_teams[[\"DGSM_norm\", \"SGDM_norm\", \"total_norm\"]], color=\".25\");\n",
    "\n",
    "plt.ylabel(\"Score [%]\");"
   ]
  },
  {
   "cell_type": "markdown",
   "metadata": {},
   "source": [
    "### What team performed best?"
   ]
  },
  {
   "cell_type": "code",
   "execution_count": 22,
   "metadata": {},
   "outputs": [
    {
     "data": {
      "image/png": "[encoded data removed]",
      "text/plain": [
       "<Figure size 792x576 with 1 Axes>"
      ]
     },
     "metadata": {},
     "output_type": "display_data"
    }
   ],
   "source": [
    "df_teams = df_teams.sort_values([\"total\", \"DGSM\"])\n",
    "\n",
    "sns.barplot(x = df_teams[\"team\"], y = df_teams[\"total\"], color=\"#72B6A1\", label=\"SGDM\")\n",
    "bottom_plot = sns.barplot(x = df_teams[\"team\"], y = df_teams[\"DGSM\"], color=\"#E99675\", label = \"DGSM\")\n",
    "\n",
    "bottom_plot.set_xticklabels(bottom_plot.get_xticklabels(), rotation=90);\n",
    "plt.ylabel(\"Score\")\n",
    "plt.xlabel(\"Team name\")\n",
    "plt.legend();"
   ]
  },
  {
   "cell_type": "markdown",
   "metadata": {},
   "source": [
    "### What is performance of SAME vs. MIXED teams w.r.t. quiz type (DGSM and SGDM)?"
   ]
  },
  {
   "cell_type": "code",
   "execution_count": 26,
   "metadata": {},
   "outputs": [
    {
     "data": {
      "text/html": [
       "<div>\n",
       "<style scoped>\n",
       "    .dataframe tbody tr th:only-of-type {\n",
       "        vertical-align: middle;\n",
       "    }\n",
       "\n",
       "    .dataframe tbody tr th {\n",
       "        vertical-align: top;\n",
       "    }\n",
       "\n",
       "    .dataframe thead th {\n",
       "        text-align: right;\n",
       "    }\n",
       "</style>\n",
       "<table border=\"1\" class=\"dataframe\">\n",
       "  <thead>\n",
       "    <tr style=\"text-align: right;\">\n",
       "      <th></th>\n",
       "      <th>team</th>\n",
       "      <th>quiz_type</th>\n",
       "      <th>score</th>\n",
       "      <th>score_norm</th>\n",
       "      <th>team_type</th>\n",
       "      <th>total</th>\n",
       "    </tr>\n",
       "  </thead>\n",
       "  <tbody>\n",
       "    <tr>\n",
       "      <td>0</td>\n",
       "      <td>same3</td>\n",
       "      <td>DGSM</td>\n",
       "      <td>4</td>\n",
       "      <td>0.444444</td>\n",
       "      <td>SAME</td>\n",
       "      <td>12</td>\n",
       "    </tr>\n",
       "    <tr>\n",
       "      <td>1</td>\n",
       "      <td>mixed1</td>\n",
       "      <td>DGSM</td>\n",
       "      <td>7</td>\n",
       "      <td>0.777778</td>\n",
       "      <td>MIXED</td>\n",
       "      <td>12</td>\n",
       "    </tr>\n",
       "    <tr>\n",
       "      <td>2</td>\n",
       "      <td>same1</td>\n",
       "      <td>DGSM</td>\n",
       "      <td>5</td>\n",
       "      <td>0.555556</td>\n",
       "      <td>SAME</td>\n",
       "      <td>13</td>\n",
       "    </tr>\n",
       "    <tr>\n",
       "      <td>3</td>\n",
       "      <td>mixed3</td>\n",
       "      <td>DGSM</td>\n",
       "      <td>6</td>\n",
       "      <td>0.666667</td>\n",
       "      <td>MIXED</td>\n",
       "      <td>14</td>\n",
       "    </tr>\n",
       "    <tr>\n",
       "      <td>4</td>\n",
       "      <td>mixed5</td>\n",
       "      <td>DGSM</td>\n",
       "      <td>6</td>\n",
       "      <td>0.666667</td>\n",
       "      <td>MIXED</td>\n",
       "      <td>14</td>\n",
       "    </tr>\n",
       "    <tr>\n",
       "      <td>5</td>\n",
       "      <td>mixed4</td>\n",
       "      <td>DGSM</td>\n",
       "      <td>7</td>\n",
       "      <td>0.777778</td>\n",
       "      <td>MIXED</td>\n",
       "      <td>14</td>\n",
       "    </tr>\n",
       "    <tr>\n",
       "      <td>6</td>\n",
       "      <td>same4</td>\n",
       "      <td>DGSM</td>\n",
       "      <td>7</td>\n",
       "      <td>0.777778</td>\n",
       "      <td>SAME</td>\n",
       "      <td>14</td>\n",
       "    </tr>\n",
       "    <tr>\n",
       "      <td>7</td>\n",
       "      <td>same5</td>\n",
       "      <td>DGSM</td>\n",
       "      <td>7</td>\n",
       "      <td>0.777778</td>\n",
       "      <td>SAME</td>\n",
       "      <td>14</td>\n",
       "    </tr>\n",
       "    <tr>\n",
       "      <td>8</td>\n",
       "      <td>mixed2</td>\n",
       "      <td>DGSM</td>\n",
       "      <td>7</td>\n",
       "      <td>0.777778</td>\n",
       "      <td>MIXED</td>\n",
       "      <td>15</td>\n",
       "    </tr>\n",
       "    <tr>\n",
       "      <td>9</td>\n",
       "      <td>same3</td>\n",
       "      <td>SGDM</td>\n",
       "      <td>8</td>\n",
       "      <td>0.888889</td>\n",
       "      <td>SAME</td>\n",
       "      <td>12</td>\n",
       "    </tr>\n",
       "    <tr>\n",
       "      <td>10</td>\n",
       "      <td>mixed1</td>\n",
       "      <td>SGDM</td>\n",
       "      <td>5</td>\n",
       "      <td>0.555556</td>\n",
       "      <td>MIXED</td>\n",
       "      <td>12</td>\n",
       "    </tr>\n",
       "    <tr>\n",
       "      <td>11</td>\n",
       "      <td>same1</td>\n",
       "      <td>SGDM</td>\n",
       "      <td>8</td>\n",
       "      <td>0.888889</td>\n",
       "      <td>SAME</td>\n",
       "      <td>13</td>\n",
       "    </tr>\n",
       "    <tr>\n",
       "      <td>12</td>\n",
       "      <td>mixed3</td>\n",
       "      <td>SGDM</td>\n",
       "      <td>8</td>\n",
       "      <td>0.888889</td>\n",
       "      <td>MIXED</td>\n",
       "      <td>14</td>\n",
       "    </tr>\n",
       "    <tr>\n",
       "      <td>13</td>\n",
       "      <td>mixed5</td>\n",
       "      <td>SGDM</td>\n",
       "      <td>8</td>\n",
       "      <td>0.888889</td>\n",
       "      <td>MIXED</td>\n",
       "      <td>14</td>\n",
       "    </tr>\n",
       "    <tr>\n",
       "      <td>14</td>\n",
       "      <td>mixed4</td>\n",
       "      <td>SGDM</td>\n",
       "      <td>7</td>\n",
       "      <td>0.777778</td>\n",
       "      <td>MIXED</td>\n",
       "      <td>14</td>\n",
       "    </tr>\n",
       "    <tr>\n",
       "      <td>15</td>\n",
       "      <td>same4</td>\n",
       "      <td>SGDM</td>\n",
       "      <td>7</td>\n",
       "      <td>0.777778</td>\n",
       "      <td>SAME</td>\n",
       "      <td>14</td>\n",
       "    </tr>\n",
       "    <tr>\n",
       "      <td>16</td>\n",
       "      <td>same5</td>\n",
       "      <td>SGDM</td>\n",
       "      <td>7</td>\n",
       "      <td>0.777778</td>\n",
       "      <td>SAME</td>\n",
       "      <td>14</td>\n",
       "    </tr>\n",
       "    <tr>\n",
       "      <td>17</td>\n",
       "      <td>mixed2</td>\n",
       "      <td>SGDM</td>\n",
       "      <td>8</td>\n",
       "      <td>0.888889</td>\n",
       "      <td>MIXED</td>\n",
       "      <td>15</td>\n",
       "    </tr>\n",
       "  </tbody>\n",
       "</table>\n",
       "</div>"
      ],
      "text/plain": [
       "      team quiz_type  score  score_norm team_type  total\n",
       "0    same3      DGSM      4    0.444444      SAME     12\n",
       "1   mixed1      DGSM      7    0.777778     MIXED     12\n",
       "2    same1      DGSM      5    0.555556      SAME     13\n",
       "3   mixed3      DGSM      6    0.666667     MIXED     14\n",
       "4   mixed5      DGSM      6    0.666667     MIXED     14\n",
       "5   mixed4      DGSM      7    0.777778     MIXED     14\n",
       "6    same4      DGSM      7    0.777778      SAME     14\n",
       "7    same5      DGSM      7    0.777778      SAME     14\n",
       "8   mixed2      DGSM      7    0.777778     MIXED     15\n",
       "9    same3      SGDM      8    0.888889      SAME     12\n",
       "10  mixed1      SGDM      5    0.555556     MIXED     12\n",
       "11   same1      SGDM      8    0.888889      SAME     13\n",
       "12  mixed3      SGDM      8    0.888889     MIXED     14\n",
       "13  mixed5      SGDM      8    0.888889     MIXED     14\n",
       "14  mixed4      SGDM      7    0.777778     MIXED     14\n",
       "15   same4      SGDM      7    0.777778      SAME     14\n",
       "16   same5      SGDM      7    0.777778      SAME     14\n",
       "17  mixed2      SGDM      8    0.888889     MIXED     15"
      ]
     },
     "execution_count": 26,
     "metadata": {},
     "output_type": "execute_result"
    }
   ],
   "source": [
    "teams = list(df_teams[\"team\"])\n",
    "data = {\"team\": teams*2,\n",
    "       \"quiz_type\": [\"DGSM\"]*len(teams) + [\"SGDM\"]*len(teams),\n",
    "       \"score\": [q4[s][0] for s in teams] + [q5[s][0] for s in teams],\n",
    "        \"score_norm\": [q4[s][1] for s in teams] + [q5[s][1] for s in teams],\n",
    "       \"team_type\": [\"SAME\" if t.startswith(\"same\") else \"MIXED\" for t in teams ]*2}\n",
    "df = pd.DataFrame(data)\n",
    "df[\"total\"] = df.apply(lambda x: df[df.team==x.team].score.sum(), axis=1)\n",
    "df"
   ]
  },
  {
   "cell_type": "markdown",
   "metadata": {},
   "source": [
    "##### Question count"
   ]
  },
  {
   "cell_type": "code",
   "execution_count": 24,
   "metadata": {},
   "outputs": [
    {
     "data": {
      "image/png": "[encoded data removed]",
      "text/plain": [
       "<Figure size 792x576 with 1 Axes>"
      ]
     },
     "metadata": {},
     "output_type": "display_data"
    }
   ],
   "source": [
    "ax = sns.barplot(x=\"quiz_type\", y=\"score\", hue=\"team_type\", data=df, palette=[\"#85A8BA\", \"#D99294\"])\n",
    "ax.set_xticklabels(ax.get_xticklabels(), rotation=90);\n",
    "\n",
    "total_qns = 9\n",
    "for p in ax.patches:\n",
    "    height = p.get_height()\n",
    "    ax.text(p.get_x()+p.get_width()/2.,\n",
    "            height-2,\n",
    "            f'{height/total_qns*100:1.2f}%',\n",
    "            ha=\"center\",\n",
    "            color=\"white\",\n",
    "           fontsize=18) \n",
    "\n",
    "plt.ylabel(\"Score\")\n",
    "plt.xlabel(\"Quiz type\")\n",
    "plt.legend();"
   ]
  },
  {
   "cell_type": "markdown",
   "metadata": {},
   "source": [
    "### Which team type performed better: SAME or MIXED?"
   ]
  },
  {
   "cell_type": "code",
   "execution_count": 29,
   "metadata": {},
   "outputs": [
    {
     "name": "stderr",
     "output_type": "stream",
     "text": [
      "No handles with labels found to put in legend.\n"
     ]
    },
    {
     "data": {
      "image/png": "[encoded data removed]",
      "text/plain": [
       "<Figure size 792x576 with 1 Axes>"
      ]
     },
     "metadata": {},
     "output_type": "display_data"
    }
   ],
   "source": [
    "sns.barplot(x = df[\"team_type\"], y = df[\"total\"], color=\"#6CB2D1\")\n",
    "#bottom_plot = sns.barplot(x = df[\"team_type\"], y = df_teams[\"DGSM\"], color=\"#E99675\", label = \"DGSM\")\n",
    "\n",
    "bottom_plot.set_xticklabels(bottom_plot.get_xticklabels(), rotation=90);\n",
    "plt.ylabel(\"Score\")\n",
    "plt.xlabel(\"Team type\")\n",
    "plt.legend();"
   ]
  },
  {
   "cell_type": "code",
   "execution_count": null,
   "metadata": {},
   "outputs": [],
   "source": []
  }
 ],
 "metadata": {
  "kernelspec": {
   "display_name": "Python 3",
   "language": "python",
   "name": "python3"
  },
  "language_info": {
   "codemirror_mode": {
    "name": "ipython",
    "version": 3
   },
   "file_extension": ".py",
   "mimetype": "text/x-python",
   "name": "python",
   "nbconvert_exporter": "python",
   "pygments_lexer": "ipython3",
   "version": "3.6.8"
  }
 },
 "nbformat": 4,
 "nbformat_minor": 2
}
