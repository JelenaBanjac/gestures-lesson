{
 "cells": [
  {
   "cell_type": "markdown",
   "metadata": {},
   "source": [
    "# Clean data\n",
    "\n",
    "Create dataframes we can work with"
   ]
  },
  {
   "cell_type": "code",
   "execution_count": 1,
   "metadata": {
    "collapsed": true
   },
   "outputs": [],
   "source": [
    "import json\n",
    "import os\n",
    "import numpy as np\n",
    "import pandas as pd"
   ]
  },
  {
   "cell_type": "code",
   "execution_count": 2,
   "metadata": {},
   "outputs": [
    {
     "data": {
      "text/html": [
       "<style>.container { width:95% !important; }</style>"
      ],
      "text/plain": [
       "<IPython.core.display.HTML object>"
      ]
     },
     "metadata": {},
     "output_type": "display_data"
    }
   ],
   "source": [
    "def fix_layout(width:int=95):\n",
    "    from IPython.core.display import display, HTML\n",
    "    display(HTML('<style>.container { width:' + str(width) + '% !important; }</style>'))\n",
    "    \n",
    "fix_layout()"
   ]
  },
  {
   "cell_type": "markdown",
   "metadata": {},
   "source": [
    "# Orchestration Graph"
   ]
  },
  {
   "cell_type": "markdown",
   "metadata": {},
   "source": [
    "# Read data"
   ]
  },
  {
   "cell_type": "code",
   "execution_count": 3,
   "metadata": {
    "collapsed": true
   },
   "outputs": [],
   "source": [
    "activity_names = os.listdir('data/ac')\n",
    "operator_names = os.listdir('data/op')"
   ]
  },
  {
   "cell_type": "markdown",
   "metadata": {},
   "source": [
    "Activities have:\n",
    "```\n",
    "activity.json\n",
    "config.json\n",
    "object.json\n",
    "product.json\n",
    "```\n",
    "\n",
    "Operators have:\n",
    "```\n",
    "config.json\n",
    "object.json\n",
    "product.json\n",
    "```"
   ]
  },
  {
   "cell_type": "code",
   "execution_count": 4,
   "metadata": {},
   "outputs": [],
   "source": [
    "class Activity:\n",
    "    \n",
    "    def __init__(self, name):\n",
    "        self.name = name\n",
    "        \n",
    "        with open(f'data/ac/{self.name}/activity.json') as f:\n",
    "            self.activity = json.load(f)\n",
    "        with open(f'data/ac/{self.name}/config.json') as f:\n",
    "            self.config = json.load(f)\n",
    "        with open(f'data/ac/{self.name}/object.json') as f:\n",
    "            self.object = json.load(f)\n",
    "        with open(f'data/ac/{self.name}/product.json') as f:\n",
    "            self.product = json.load(f)\n",
    "            \n",
    "class Operator:\n",
    "    \n",
    "    def __init__(self, name):\n",
    "        self.name = name\n",
    "        \n",
    "        with open(f'data/op/{self.name}/config.json') as f:\n",
    "            self.config = json.load(f)\n",
    "        with open(f'data/op/{self.name}/object.json') as f:\n",
    "            self.object = json.load(f)\n",
    "        with open(f'data/op/{self.name}/product.json') as f:\n",
    "            self.product = json.load(f)"
   ]
  },
  {
   "cell_type": "code",
   "execution_count": 9,
   "metadata": {},
   "outputs": [],
   "source": [
    "class Activities:pass\n",
    "activities = Activities()\n",
    "\n",
    "for a in activity_names:  \n",
    "    setattr(activities, f\"_{a.split('__')[0].replace('-', '_')}\", Activity(name=a))"
   ]
  },
  {
   "cell_type": "code",
   "execution_count": 10,
   "metadata": {
    "collapsed": true
   },
   "outputs": [],
   "source": [
    "class Operators: pass\n",
    "operators = Operators() \n",
    "\n",
    "for o in operator_names:\n",
    "    setattr(operators, f\"_{o.split('__')[0].replace('-', '_')}\", Operator(name=o))"
   ]
  },
  {
   "cell_type": "markdown",
   "metadata": {},
   "source": [
    "# Use data"
   ]
  },
  {
   "cell_type": "markdown",
   "metadata": {},
   "source": [
    "Example of how to call the activity '10-dashboard-activity' from the set of activities (`activities._10_dashboard_activity`) and get the content of `activity.json` (with `.activity`)."
   ]
  },
  {
   "cell_type": "code",
   "execution_count": 11,
   "metadata": {
    "scrolled": true
   },
   "outputs": [
    {
     "data": {
      "text/plain": [
       "{'_id': 'ck3yv0jj802lh01ywfr9a7e7b',\n",
       " 'length': 2,\n",
       " 'plane': 3,\n",
       " 'startTime': 19,\n",
       " 'title': 'Dashboard activity',\n",
       " 'activityType': 'ac-dash',\n",
       " 'configVersion': 1,\n",
       " 'graphId': 'ck3yv0jj602l501yw6nbabhtd',\n",
       " 'participationMode': 'projector',\n",
       " 'state': 'computed',\n",
       " 'actualStartingTime': '2019-12-10T09:19:54.988Z',\n",
       " 'actualClosingTime': '2019-12-10T09:21:41.793Z'}"
      ]
     },
     "execution_count": 11,
     "metadata": {},
     "output_type": "execute_result"
    }
   ],
   "source": [
    "activities._10_dashboard_activity.activity"
   ]
  },
  {
   "cell_type": "markdown",
   "metadata": {},
   "source": [
    "Same goes for the operators. But we only have one operator (`._manually_group`) so only this one will be called. Also, getting the content of the `config.json` is done with `.config`"
   ]
  },
  {
   "cell_type": "code",
   "execution_count": 8,
   "metadata": {},
   "outputs": [
    {
     "data": {
      "text/plain": [
       "{'groupingKeys': 'group',\n",
       " 'studentmapping': 'oriane_peter,same1\\nantoine_clivaz,same1\\nguilhem_sicard,same2\\njohan_barthas,same2\\nalfonso_fernandez,same3\\nmarcel_moya,same3\\nnatalia_gullon,same3\\ngiacomo_alliata,same4\\nguido_sergi,same4\\nmax_schnaubelt,same5\\nanel_muhamedagic,same5\\nkiarash_farivar,mixed1\\nambroise_renaud,mixed1\\njoshua_lowin,mixed1\\nsofia_kypraiou,mixed2\\nmahmoud_said,mixed2\\nlukas_deloose,mixed3\\nthanuditha_wickramasinghe,mixed3\\narnaud_garin,mixed3\\nkim_haeeun,mixed4\\ngraziano_rossini,mixed4\\nalexandre_thimonier,mixed5\\nanna_andersson,mixed5\\n',\n",
       " 'defaultGroupingValues': 'undefined'}"
      ]
     },
     "execution_count": 8,
     "metadata": {},
     "output_type": "execute_result"
    }
   ],
   "source": [
    "operators._manually_group.config"
   ]
  },
  {
   "cell_type": "markdown",
   "metadata": {},
   "source": [
    "![og](og.png)"
   ]
  },
  {
   "cell_type": "code",
   "execution_count": 224,
   "metadata": {
    "scrolled": false
   },
   "outputs": [],
   "source": [
    "obj = activities._10_quiz.product"
   ]
  },
  {
   "cell_type": "code",
   "execution_count": 228,
   "metadata": {},
   "outputs": [],
   "source": [
    "teams = list(obj['payload'].keys())\n",
    "answers_pre_quiz_2 = list(obj['payload'].values())"
   ]
  },
  {
   "cell_type": "code",
   "execution_count": 173,
   "metadata": {},
   "outputs": [],
   "source": [
    "del answers_dgsm[1]\n",
    "del teams[1]"
   ]
  },
  {
   "cell_type": "code",
   "execution_count": 47,
   "metadata": {
    "collapsed": true
   },
   "outputs": [],
   "source": [
    "import re\n",
    "\n",
    "def cleanhtml(raw_html):\n",
    "    cleanr = re.compile('<.*?>')\n",
    "    cleantext = re.sub(cleanr, '', raw_html)\n",
    "    return cleantext"
   ]
  },
  {
   "cell_type": "code",
   "execution_count": 240,
   "metadata": {},
   "outputs": [
    {
     "name": "stdout",
     "output_type": "stream",
     "text": [
      "1\n",
      "2\n",
      "3\n",
      "4\n",
      "5\n",
      "6\n",
      "7\n",
      "8\n",
      "9\n",
      "10\n",
      "11\n",
      "12\n",
      "13\n"
     ]
    }
   ],
   "source": [
    "count = 0\n",
    "pre_quiz_2 = []\n",
    "\n",
    "for i in range(len(answers_dgsm)):\n",
    "    try:\n",
    "        username = answers_pre_quiz_2[i]['data']['msg'].split()[0]\n",
    "        answers = dict(zip([cleanhtml(x).strip() for x in answers_pre_quiz_2[i]['data']['questions']], answers_pre_quiz_2[i]['data']['answers']))\n",
    "        pre_quiz_2.append((username, answers))\n",
    "    except:\n",
    "        count += 1\n",
    "        print(count)"
   ]
  },
  {
   "cell_type": "code",
   "execution_count": 241,
   "metadata": {
    "scrolled": false
   },
   "outputs": [
    {
     "data": {
      "text/plain": [
       "[('oriane_peter',\n",
       "  {'Which gesture do west African parents use to imply that their children should leave the room when they have guests?': 'wink',\n",
       "   'The “OK” hand gesture considered as an insult in …….. ?': 'Venezuela',\n",
       "   'What are you going to lose in Japan, if someone does “the neck slide” gesture to you:': 'Your job',\n",
       "   'You are in Sweden and you are listening to a very interesting story from a friend about their internship they had abroad. To show them you are on the same page as them and don’t want to interrupt the flow of the conversation, you would do what?': 'Make a sharp sucking noise',\n",
       "   'Waving goodbye is considered awful in …….': 'Cyprus',\n",
       "   '‘Pressing thumbs’ in some German speaking countries traces back to …...': 'Ancient Romans'}),\n",
       " ('thanuditha_wickramasinghe',\n",
       "  {'Which gesture do west African parents use to imply that their children should leave the room when they have guests?': 'wink',\n",
       "   'The “OK” hand gesture considered as an insult in …….. ?': 'Mexico',\n",
       "   'What are you going to lose in Japan, if someone does “the neck slide” gesture to you:': 'Your job',\n",
       "   'You are in Sweden and you are listening to a very interesting story from a friend about their internship they had abroad. To show them you are on the same page as them and don’t want to interrupt the flow of the conversation, you would do what?': 'Make a sharp sucking noise',\n",
       "   'Waving goodbye is considered awful in …….': 'Cyprus',\n",
       "   '‘Pressing thumbs’ in some German speaking countries traces back to …...': 'Ancient Romans'}),\n",
       " ('graziano_rossini',\n",
       "  {'Which gesture do west African parents use to imply that their children should leave the room when they have guests?': 'wink',\n",
       "   'The “OK” hand gesture considered as an insult in …….. ?': 'Mexico',\n",
       "   'What are you going to lose in Japan, if someone does “the neck slide” gesture to you:': 'Your job',\n",
       "   'You are in Sweden and you are listening to a very interesting story from a friend about their internship they had abroad. To show them you are on the same page as them and don’t want to interrupt the flow of the conversation, you would do what?': 'Nod and smile',\n",
       "   'Waving goodbye is considered awful in …….': 'Cyprus',\n",
       "   '‘Pressing thumbs’ in some German speaking countries traces back to …...': 'Ancient Romans'}),\n",
       " ('alfonso_fernandez',\n",
       "  {'Which gesture do west African parents use to imply that their children should leave the room when they have guests?': 'wink',\n",
       "   'The “OK” hand gesture considered as an insult in …….. ?': 'Venezuela',\n",
       "   'What are you going to lose in Japan, if someone does “the neck slide” gesture to you:': 'Your job',\n",
       "   'You are in Sweden and you are listening to a very interesting story from a friend about their internship they had abroad. To show them you are on the same page as them and don’t want to interrupt the flow of the conversation, you would do what?': 'Nod and smile',\n",
       "   'Waving goodbye is considered awful in …….': 'Turkey',\n",
       "   '‘Pressing thumbs’ in some German speaking countries traces back to …...': 'Ancient Romans'}),\n",
       " ('marcel_moya',\n",
       "  {'Which gesture do west African parents use to imply that their children should leave the room when they have guests?': 'wink',\n",
       "   'The “OK” hand gesture considered as an insult in …….. ?': 'Venezuela',\n",
       "   'What are you going to lose in Japan, if someone does “the neck slide” gesture to you:': 'Your job',\n",
       "   'You are in Sweden and you are listening to a very interesting story from a friend about their internship they had abroad. To show them you are on the same page as them and don’t want to interrupt the flow of the conversation, you would do what?': 'Make a sharp sucking noise',\n",
       "   'Waving goodbye is considered awful in …….': 'Turkey',\n",
       "   '‘Pressing thumbs’ in some German speaking countries traces back to …...': 'Ancient Romans'}),\n",
       " ('lukas_deloose',\n",
       "  {'Which gesture do west African parents use to imply that their children should leave the room when they have guests?': 'wink',\n",
       "   'The “OK” hand gesture considered as an insult in …….. ?': 'Venezuela',\n",
       "   'What are you going to lose in Japan, if someone does “the neck slide” gesture to you:': 'Your job',\n",
       "   'You are in Sweden and you are listening to a very interesting story from a friend about their internship they had abroad. To show them you are on the same page as them and don’t want to interrupt the flow of the conversation, you would do what?': 'Make a sharp sucking noise',\n",
       "   'Waving goodbye is considered awful in …….': 'Bulgaria',\n",
       "   '‘Pressing thumbs’ in some German speaking countries traces back to …...': 'Ancient Romans'}),\n",
       " ('anel_muhamedagic',\n",
       "  {'Which gesture do west African parents use to imply that their children should leave the room when they have guests?': 'wink',\n",
       "   'The “OK” hand gesture considered as an insult in …….. ?': 'Venezuela',\n",
       "   'What are you going to lose in Japan, if someone does “the neck slide” gesture to you:': 'Your job',\n",
       "   'You are in Sweden and you are listening to a very interesting story from a friend about their internship they had abroad. To show them you are on the same page as them and don’t want to interrupt the flow of the conversation, you would do what?': 'Make a sharp sucking noise',\n",
       "   'Waving goodbye is considered awful in …….': 'Bulgaria',\n",
       "   '‘Pressing thumbs’ in some German speaking countries traces back to …...': 'Ancient Romans'}),\n",
       " ('alexandre_thimonier',\n",
       "  {'Which gesture do west African parents use to imply that their children should leave the room when they have guests?': 'wink',\n",
       "   'The “OK” hand gesture considered as an insult in …….. ?': 'Mexico',\n",
       "   'What are you going to lose in Japan, if someone does “the neck slide” gesture to you:': 'Your job',\n",
       "   'You are in Sweden and you are listening to a very interesting story from a friend about their internship they had abroad. To show them you are on the same page as them and don’t want to interrupt the flow of the conversation, you would do what?': 'Make a sharp sucking noise',\n",
       "   'Waving goodbye is considered awful in …….': 'Cyprus',\n",
       "   '‘Pressing thumbs’ in some German speaking countries traces back to …...': 'Ancient Pagan religions'}),\n",
       " ('guido_sergi',\n",
       "  {'Which gesture do west African parents use to imply that their children should leave the room when they have guests?': 'wink',\n",
       "   'The “OK” hand gesture considered as an insult in …….. ?': 'Mexico',\n",
       "   'What are you going to lose in Japan, if someone does “the neck slide” gesture to you:': 'Your job',\n",
       "   'You are in Sweden and you are listening to a very interesting story from a friend about their internship they had abroad. To show them you are on the same page as them and don’t want to interrupt the flow of the conversation, you would do what?': 'Make a sharp sucking noise',\n",
       "   'Waving goodbye is considered awful in …….': 'Cyprus',\n",
       "   '‘Pressing thumbs’ in some German speaking countries traces back to …...': 'Ancient Romans'}),\n",
       " ('kim_haeeun',\n",
       "  {'Which gesture do west African parents use to imply that their children should leave the room when they have guests?': 'wink',\n",
       "   'The “OK” hand gesture considered as an insult in …….. ?': 'Venezuela',\n",
       "   'What are you going to lose in Japan, if someone does “the neck slide” gesture to you:': 'Your job',\n",
       "   'You are in Sweden and you are listening to a very interesting story from a friend about their internship they had abroad. To show them you are on the same page as them and don’t want to interrupt the flow of the conversation, you would do what?': 'Nod and smile',\n",
       "   'Waving goodbye is considered awful in …….': 'Cyprus',\n",
       "   '‘Pressing thumbs’ in some German speaking countries traces back to …...': 'Ancient Romans'}),\n",
       " ('giacomo_alliata',\n",
       "  {'Which gesture do west African parents use to imply that their children should leave the room when they have guests?': 'wink',\n",
       "   'The “OK” hand gesture considered as an insult in …….. ?': 'Venezuela',\n",
       "   'What are you going to lose in Japan, if someone does “the neck slide” gesture to you:': 'Your job',\n",
       "   'You are in Sweden and you are listening to a very interesting story from a friend about their internship they had abroad. To show them you are on the same page as them and don’t want to interrupt the flow of the conversation, you would do what?': 'Make a sharp sucking noise',\n",
       "   'Waving goodbye is considered awful in …….': 'Turkey',\n",
       "   '‘Pressing thumbs’ in some German speaking countries traces back to …...': 'Ancient Romans'}),\n",
       " ('ambroise_renaud',\n",
       "  {'Which gesture do west African parents use to imply that their children should leave the room when they have guests?': 'wink',\n",
       "   'The “OK” hand gesture considered as an insult in …….. ?': 'Venezuela',\n",
       "   'What are you going to lose in Japan, if someone does “the neck slide” gesture to you:': 'Your job',\n",
       "   'You are in Sweden and you are listening to a very interesting story from a friend about their internship they had abroad. To show them you are on the same page as them and don’t want to interrupt the flow of the conversation, you would do what?': 'Nod and smile',\n",
       "   'Waving goodbye is considered awful in …….': 'Turkey',\n",
       "   '‘Pressing thumbs’ in some German speaking countries traces back to …...': 'Ancient Romans'}),\n",
       " ('arnaud_garin',\n",
       "  {'Which gesture do west African parents use to imply that their children should leave the room when they have guests?': 'wink',\n",
       "   'The “OK” hand gesture considered as an insult in …….. ?': 'Venezuela',\n",
       "   'What are you going to lose in Japan, if someone does “the neck slide” gesture to you:': 'Your job',\n",
       "   'You are in Sweden and you are listening to a very interesting story from a friend about their internship they had abroad. To show them you are on the same page as them and don’t want to interrupt the flow of the conversation, you would do what?': 'Make a sharp sucking noise',\n",
       "   'Waving goodbye is considered awful in …….': 'Cyprus',\n",
       "   '‘Pressing thumbs’ in some German speaking countries traces back to …...': 'Ancient Romans'}),\n",
       " ('kiarash_farivar',\n",
       "  {'Which gesture do west African parents use to imply that their children should leave the room when they have guests?': 'wink',\n",
       "   'The “OK” hand gesture considered as an insult in …….. ?': 'Mexico',\n",
       "   'What are you going to lose in Japan, if someone does “the neck slide” gesture to you:': 'Your money',\n",
       "   'You are in Sweden and you are listening to a very interesting story from a friend about their internship they had abroad. To show them you are on the same page as them and don’t want to interrupt the flow of the conversation, you would do what?': 'Nod and smile',\n",
       "   'Waving goodbye is considered awful in …….': 'Sri Lanka',\n",
       "   '‘Pressing thumbs’ in some German speaking countries traces back to …...': 'Ancient Romans'}),\n",
       " ('kevin',\n",
       "  {'Which gesture do west African parents use to imply that their children should leave the room when they have guests?': 'wink',\n",
       "   'The “OK” hand gesture considered as an insult in …….. ?': 'Venezuela',\n",
       "   'What are you going to lose in Japan, if someone does “the neck slide” gesture to you:': 'Your job',\n",
       "   'You are in Sweden and you are listening to a very interesting story from a friend about their internship they had abroad. To show them you are on the same page as them and don’t want to interrupt the flow of the conversation, you would do what?': 'Make a sharp sucking noise',\n",
       "   'Waving goodbye is considered awful in …….': 'Cyprus',\n",
       "   '‘Pressing thumbs’ in some German speaking countries traces back to …...': 'Ancient Romans'}),\n",
       " ('louis',\n",
       "  {'Which gesture do west African parents use to imply that their children should leave the room when they have guests?': 'wink',\n",
       "   'The “OK” hand gesture considered as an insult in …….. ?': 'Venezuela',\n",
       "   'What are you going to lose in Japan, if someone does “the neck slide” gesture to you:': 'Your job',\n",
       "   'You are in Sweden and you are listening to a very interesting story from a friend about their internship they had abroad. To show them you are on the same page as them and don’t want to interrupt the flow of the conversation, you would do what?': 'Nod and smile',\n",
       "   'Waving goodbye is considered awful in …….': 'Cyprus',\n",
       "   '‘Pressing thumbs’ in some German speaking countries traces back to …...': 'Ancient Romans'}),\n",
       " ('anna_andersson',\n",
       "  {'Which gesture do west African parents use to imply that their children should leave the room when they have guests?': 'wink',\n",
       "   'The “OK” hand gesture considered as an insult in …….. ?': 'Venezuela',\n",
       "   'What are you going to lose in Japan, if someone does “the neck slide” gesture to you:': 'Your job',\n",
       "   'You are in Sweden and you are listening to a very interesting story from a friend about their internship they had abroad. To show them you are on the same page as them and don’t want to interrupt the flow of the conversation, you would do what?': 'Make a sharp sucking noise',\n",
       "   'Waving goodbye is considered awful in …….': 'Bulgaria',\n",
       "   '‘Pressing thumbs’ in some German speaking countries traces back to …...': 'Ancient Pagan religions'}),\n",
       " ('natalia_gullon',\n",
       "  {'Which gesture do west African parents use to imply that their children should leave the room when they have guests?': 'wink',\n",
       "   'The “OK” hand gesture considered as an insult in …….. ?': 'Venezuela',\n",
       "   'What are you going to lose in Japan, if someone does “the neck slide” gesture to you:': 'Your job',\n",
       "   'You are in Sweden and you are listening to a very interesting story from a friend about their internship they had abroad. To show them you are on the same page as them and don’t want to interrupt the flow of the conversation, you would do what?': 'Nod and smile',\n",
       "   'Waving goodbye is considered awful in …….': 'Turkey',\n",
       "   '‘Pressing thumbs’ in some German speaking countries traces back to …...': 'Ancient Romans'}),\n",
       " ('max_schnaubelt',\n",
       "  {'Which gesture do west African parents use to imply that their children should leave the room when they have guests?': 'wink',\n",
       "   'The “OK” hand gesture considered as an insult in …….. ?': 'Mexico',\n",
       "   'What are you going to lose in Japan, if someone does “the neck slide” gesture to you:': 'Your job',\n",
       "   'You are in Sweden and you are listening to a very interesting story from a friend about their internship they had abroad. To show them you are on the same page as them and don’t want to interrupt the flow of the conversation, you would do what?': 'Make a sharp sucking noise',\n",
       "   'Waving goodbye is considered awful in …….': 'Sri Lanka',\n",
       "   '‘Pressing thumbs’ in some German speaking countries traces back to …...': 'Ancient Romans'}),\n",
       " ('antoine_clivaz',\n",
       "  {'Which gesture do west African parents use to imply that their children should leave the room when they have guests?': 'wink',\n",
       "   'The “OK” hand gesture considered as an insult in …….. ?': 'Venezuela',\n",
       "   'What are you going to lose in Japan, if someone does “the neck slide” gesture to you:': 'Your job',\n",
       "   'You are in Sweden and you are listening to a very interesting story from a friend about their internship they had abroad. To show them you are on the same page as them and don’t want to interrupt the flow of the conversation, you would do what?': 'Make a sharp sucking noise',\n",
       "   'Waving goodbye is considered awful in …….': 'Cyprus',\n",
       "   '‘Pressing thumbs’ in some German speaking countries traces back to …...': 'Ancient Romans'})]"
      ]
     },
     "execution_count": 241,
     "metadata": {},
     "output_type": "execute_result"
    }
   ],
   "source": [
    "pre_quiz_2"
   ]
  },
  {
   "cell_type": "code",
   "execution_count": 244,
   "metadata": {},
   "outputs": [
    {
     "data": {
      "text/plain": [
       "20"
      ]
     },
     "execution_count": 244,
     "metadata": {},
     "output_type": "execute_result"
    }
   ],
   "source": [
    "len(pre_quiz_2)"
   ]
  },
  {
   "cell_type": "code",
   "execution_count": 190,
   "metadata": {},
   "outputs": [],
   "source": [
    "pre_quiz_2[-1] = list(pre_quiz_2[-1])\n",
    "pre_quiz_2[-1][0] = 'mixed2'\n",
    "pre_quiz_2[-1] = tuple(pre_quiz_2[-1])"
   ]
  },
  {
   "cell_type": "code",
   "execution_count": 245,
   "metadata": {},
   "outputs": [],
   "source": [
    "np.save('Final_Quiz_Answers', np.array(pre_quiz_2))"
   ]
  },
  {
   "cell_type": "markdown",
   "metadata": {},
   "source": [
    "***"
   ]
  },
  {
   "cell_type": "code",
   "execution_count": 275,
   "metadata": {
    "collapsed": true
   },
   "outputs": [],
   "source": [
    "def score(lst1, lst2): \n",
    "    lst3 = [value for value in lst1 if value in lst2] \n",
    "    return len(lst3)"
   ]
  },
  {
   "cell_type": "code",
   "execution_count": 341,
   "metadata": {},
   "outputs": [],
   "source": [
    "quiz = np.load('DGSM_Answers.npy', allow_pickle=True)\n",
    "answers = pd.read_csv('DGSM_Correct_Answers.tsv', sep='\\t', header=None)"
   ]
  },
  {
   "cell_type": "code",
   "execution_count": 342,
   "metadata": {},
   "outputs": [
    {
     "data": {
      "text/html": [
       "<div>\n",
       "<style scoped>\n",
       "    .dataframe tbody tr th:only-of-type {\n",
       "        vertical-align: middle;\n",
       "    }\n",
       "\n",
       "    .dataframe tbody tr th {\n",
       "        vertical-align: top;\n",
       "    }\n",
       "\n",
       "    .dataframe thead th {\n",
       "        text-align: right;\n",
       "    }\n",
       "</style>\n",
       "<table border=\"1\" class=\"dataframe\">\n",
       "  <thead>\n",
       "    <tr style=\"text-align: right;\">\n",
       "      <th></th>\n",
       "      <th>0</th>\n",
       "      <th>1</th>\n",
       "    </tr>\n",
       "  </thead>\n",
       "  <tbody>\n",
       "    <tr>\n",
       "      <th>0</th>\n",
       "      <td>In Western cultures, mutual eye contact is a s...</td>\n",
       "      <td>True</td>\n",
       "    </tr>\n",
       "    <tr>\n",
       "      <th>1</th>\n",
       "      <td>In Japan, high-pitched laughter indicates:</td>\n",
       "      <td>Nervousness</td>\n",
       "    </tr>\n",
       "    <tr>\n",
       "      <th>2</th>\n",
       "      <td>The Middle Finger comes from Ancient Greece.</td>\n",
       "      <td>True</td>\n",
       "    </tr>\n",
       "    <tr>\n",
       "      <th>3</th>\n",
       "      <td>If your Persian friend gives you the “Thumbs u...</td>\n",
       "      <td>Up yours !</td>\n",
       "    </tr>\n",
       "    <tr>\n",
       "      <th>4</th>\n",
       "      <td>Surely a nod is a universal sign for \"yes\"? No...</td>\n",
       "      <td>Tilting your head from side to side</td>\n",
       "    </tr>\n",
       "    <tr>\n",
       "      <th>5</th>\n",
       "      <td>Which of the following gestures traces back to...</td>\n",
       "      <td>Crossed fingers</td>\n",
       "    </tr>\n",
       "    <tr>\n",
       "      <th>6</th>\n",
       "      <td>Which gesture is equivalent to ‘Pressing thumb...</td>\n",
       "      <td>Knocking on wood</td>\n",
       "    </tr>\n",
       "    <tr>\n",
       "      <th>7</th>\n",
       "      <td>Which physical gesture, commonly recognized in...</td>\n",
       "      <td>The thumbs-up</td>\n",
       "    </tr>\n",
       "    <tr>\n",
       "      <th>8</th>\n",
       "      <td>Pressing thumbs’ in some German speaking count...</td>\n",
       "      <td>Ancient Romans</td>\n",
       "    </tr>\n",
       "  </tbody>\n",
       "</table>\n",
       "</div>"
      ],
      "text/plain": [
       "                                                   0  \\\n",
       "0  In Western cultures, mutual eye contact is a s...   \n",
       "1         In Japan, high-pitched laughter indicates:   \n",
       "2       The Middle Finger comes from Ancient Greece.   \n",
       "3  If your Persian friend gives you the “Thumbs u...   \n",
       "4  Surely a nod is a universal sign for \"yes\"? No...   \n",
       "5  Which of the following gestures traces back to...   \n",
       "6  Which gesture is equivalent to ‘Pressing thumb...   \n",
       "7  Which physical gesture, commonly recognized in...   \n",
       "8  Pressing thumbs’ in some German speaking count...   \n",
       "\n",
       "                                     1  \n",
       "0                                 True  \n",
       "1                          Nervousness  \n",
       "2                                 True  \n",
       "3                           Up yours !  \n",
       "4  Tilting your head from side to side  \n",
       "5                      Crossed fingers  \n",
       "6                     Knocking on wood  \n",
       "7                        The thumbs-up  \n",
       "8                       Ancient Romans  "
      ]
     },
     "execution_count": 342,
     "metadata": {},
     "output_type": "execute_result"
    }
   ],
   "source": [
    "answers"
   ]
  },
  {
   "cell_type": "code",
   "execution_count": 345,
   "metadata": {
    "collapsed": true
   },
   "outputs": [],
   "source": [
    "scores = {}\n",
    "\n",
    "for i in range(len(quiz)):\n",
    "    user = quiz[i][0]\n",
    "    s_ = score(list(quiz[i][1].values()), list(answers.iloc[:,1]))\n",
    "    scores[user] = [s_, s_/len(list(answers.iloc[:,1]))]"
   ]
  },
  {
   "cell_type": "code",
   "execution_count": 347,
   "metadata": {},
   "outputs": [
    {
     "data": {
      "text/plain": [
       "{'mixed1': [7, 0.7777777777777778],\n",
       " 'mixed3': [6, 0.6666666666666666],\n",
       " 'mixed4': [7, 0.7777777777777778],\n",
       " 'mixed5': [6, 0.6666666666666666],\n",
       " 'same1': [5, 0.5555555555555556],\n",
       " 'same3': [4, 0.4444444444444444],\n",
       " 'same4': [7, 0.7777777777777778],\n",
       " 'same5': [7, 0.7777777777777778],\n",
       " 'mixed2': [7, 0.7777777777777778]}"
      ]
     },
     "execution_count": 347,
     "metadata": {},
     "output_type": "execute_result"
    }
   ],
   "source": [
    "scores"
   ]
  },
  {
   "cell_type": "code",
   "execution_count": 294,
   "metadata": {},
   "outputs": [
    {
     "data": {
      "text/plain": [
       "dict_values(['wink', 'Venezuela', 'Your life', 'Nod and smile', 'Sri Lanka', 'Ancient Pagan religions'])"
      ]
     },
     "execution_count": 294,
     "metadata": {},
     "output_type": "execute_result"
    }
   ],
   "source": [
    "list(quiz[9][1].values())"
   ]
  },
  {
   "cell_type": "code",
   "execution_count": 274,
   "metadata": {},
   "outputs": [
    {
     "data": {
      "text/plain": [
       "['wink',\n",
       " 'Venezuela',\n",
       " 'Your job',\n",
       " 'Make a sharp sucking noise',\n",
       " 'Cyprus',\n",
       " 'Ancient Romans']"
      ]
     },
     "execution_count": 274,
     "metadata": {},
     "output_type": "execute_result"
    }
   ],
   "source": [
    "list(answers.iloc[:,1])"
   ]
  },
  {
   "cell_type": "code",
   "execution_count": 24,
   "metadata": {},
   "outputs": [],
   "source": [
    "np.save('scores/Map_Scores.npy', map_score)"
   ]
  },
  {
   "cell_type": "code",
   "execution_count": 26,
   "metadata": {},
   "outputs": [
    {
     "data": {
      "text/plain": [
       "{'oriane_peter': [2, 0.6666666666666666],\n",
       " 'thanuditha_wickramasinghe': [0, 0.0],\n",
       " 'graziano_rossini': [2, 0.6666666666666666],\n",
       " 'alfonso_fernandez': [2, 0.6666666666666666],\n",
       " 'marcel_moya': [2, 0.6666666666666666],\n",
       " 'lukas_deloose': [2, 0.6666666666666666],\n",
       " 'anel_muhamedagic': [3, 1.0],\n",
       " 'alexandre_thimonier': [2, 0.6666666666666666],\n",
       " 'guido_sergi': [1, 0.3333333333333333],\n",
       " 'kim_haeeun': [2, 0.6666666666666666],\n",
       " 'giacomo_alliata': [3, 1.0],\n",
       " 'ambroise_renaud': [0, 0.0],\n",
       " 'arnaud_garin': [3, 1.0],\n",
       " 'kiarash_farivar': [1, 0.3333333333333333],\n",
       " 'kevin': [1, 0.3333333333333333],\n",
       " 'louis': [2, 0.6666666666666666],\n",
       " 'anna_andersson': [3, 1.0],\n",
       " 'natalia_gullon': [2, 0.6666666666666666],\n",
       " 'max_schnaubelt': [3, 1.0],\n",
       " 'antoine_clivaz': [3, 1.0]}"
      ]
     },
     "execution_count": 26,
     "metadata": {},
     "output_type": "execute_result"
    }
   ],
   "source": [
    "np.load('scores/Map_Scores.npy', allow_pickle=True).item()"
   ]
  },
  {
   "cell_type": "code",
   "execution_count": 11,
   "metadata": {},
   "outputs": [],
   "source": [
    "map_score = np.load('scores/Map_Scores.npy', allow_pickle=True)"
   ]
  },
  {
   "cell_type": "code",
   "execution_count": 18,
   "metadata": {},
   "outputs": [],
   "source": [
    "scores = [[int(x), int(x)/3] for x in map_score[:,1].tolist()]"
   ]
  },
  {
   "cell_type": "code",
   "execution_count": 21,
   "metadata": {},
   "outputs": [],
   "source": [
    "users = map_score[:,0].tolist()"
   ]
  },
  {
   "cell_type": "code",
   "execution_count": 23,
   "metadata": {},
   "outputs": [],
   "source": [
    "map_score = dict(zip(users,scores))"
   ]
  },
  {
   "cell_type": "markdown",
   "metadata": {
    "collapsed": true
   },
   "source": [
    "---"
   ]
  }
 ],
 "metadata": {
  "anaconda-cloud": {},
  "kernelspec": {
   "display_name": "Python 3",
   "language": "python",
   "name": "python3"
  },
  "language_info": {
   "codemirror_mode": {
    "name": "ipython",
    "version": 3
   },
   "file_extension": ".py",
   "mimetype": "text/x-python",
   "name": "python",
   "nbconvert_exporter": "python",
   "pygments_lexer": "ipython3",
   "version": "3.6.8"
  }
 },
 "nbformat": 4,
 "nbformat_minor": 2
}
