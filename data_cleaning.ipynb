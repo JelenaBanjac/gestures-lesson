{
 "cells": [
  {
   "cell_type": "markdown",
   "metadata": {},
   "source": [
    "# Clean data\n",
    "\n",
    "Create dataframes we can work with"
   ]
  },
  {
   "cell_type": "code",
   "execution_count": 92,
   "metadata": {},
   "outputs": [],
   "source": [
    "import json\n",
    "import os\n",
    "import numpy as np\n",
    "import pandas as pd"
   ]
  },
  {
   "cell_type": "code",
   "execution_count": 93,
   "metadata": {},
   "outputs": [
    {
     "data": {
      "text/html": [
       "<style>.container { width:95% !important; }</style>"
      ],
      "text/plain": [
       "<IPython.core.display.HTML object>"
      ]
     },
     "metadata": {},
     "output_type": "display_data"
    }
   ],
   "source": [
    "def fix_layout(width:int=95):\n",
    "    from IPython.core.display import display, HTML\n",
    "    display(HTML('<style>.container { width:' + str(width) + '% !important; }</style>'))\n",
    "    \n",
    "fix_layout()"
   ]
  },
  {
   "cell_type": "markdown",
   "metadata": {},
   "source": [
    "# Orchestration Graph"
   ]
  },
  {
   "cell_type": "markdown",
   "metadata": {},
   "source": [
    "# Read data"
   ]
  },
  {
   "cell_type": "code",
   "execution_count": 94,
   "metadata": {},
   "outputs": [],
   "source": [
    "activity_names = os.listdir('data/ac')\n",
    "operator_names = os.listdir('data/op')"
   ]
  },
  {
   "cell_type": "markdown",
   "metadata": {},
   "source": [
    "Activities have:\n",
    "```\n",
    "activity.json\n",
    "config.json\n",
    "object.json\n",
    "product.json\n",
    "```\n",
    "\n",
    "Operators have:\n",
    "```\n",
    "config.json\n",
    "object.json\n",
    "product.json\n",
    "```"
   ]
  },
  {
   "cell_type": "code",
   "execution_count": 95,
   "metadata": {},
   "outputs": [],
   "source": [
    "class Activity:\n",
    "    \n",
    "    def __init__(self, name):\n",
    "        self.name = name\n",
    "        \n",
    "        with open(f'data/ac/{self.name}/activity.json') as f:\n",
    "            self.activity = json.load(f)\n",
    "        with open(f'data/ac/{self.name}/config.json') as f:\n",
    "            self.config = json.load(f)\n",
    "        with open(f'data/ac/{self.name}/object.json') as f:\n",
    "            self.object = json.load(f)\n",
    "        with open(f'data/ac/{self.name}/product.json') as f:\n",
    "            self.product = json.load(f)\n",
    "            \n",
    "class Operator:\n",
    "    \n",
    "    def __init__(self, name):\n",
    "        self.name = name\n",
    "        \n",
    "        with open(f'data/op/{self.name}/config.json') as f:\n",
    "            self.config = json.load(f)\n",
    "        with open(f'data/op/{self.name}/object.json') as f:\n",
    "            self.object = json.load(f)\n",
    "        with open(f'data/op/{self.name}/product.json') as f:\n",
    "            self.product = json.load(f)"
   ]
  },
  {
   "cell_type": "code",
   "execution_count": 96,
   "metadata": {},
   "outputs": [],
   "source": [
    "class Activities:pass\n",
    "activities = Activities()\n",
    "\n",
    "for a in activity_names:  \n",
    "    setattr(activities, f\"_{a.split('__')[0].replace('-', '_')}\", Activity(name=a))"
   ]
  },
  {
   "cell_type": "code",
   "execution_count": 97,
   "metadata": {},
   "outputs": [],
   "source": [
    "class Operators: pass\n",
    "operators = Operators() \n",
    "\n",
    "for o in operator_names:\n",
    "    setattr(operators, f\"_{o.split('__')[0].replace('-', '_')}\", Operator(name=o))"
   ]
  },
  {
   "cell_type": "markdown",
   "metadata": {},
   "source": [
    "# Use data"
   ]
  },
  {
   "cell_type": "markdown",
   "metadata": {},
   "source": [
    "Example of how to call the activity '10-dashboard-activity' from the set of activities (`activities._10_dashboard_activity`) and get the content of `activity.json` (with `.activity`)."
   ]
  },
  {
   "cell_type": "code",
   "execution_count": 98,
   "metadata": {},
   "outputs": [
    {
     "data": {
      "text/plain": [
       "['_10_dashboard_activity',\n",
       " '_10_quiz',\n",
       " '_1_theory_introduction',\n",
       " '_2_dashboard_activity',\n",
       " '_2_pre_quiz',\n",
       " '_3_study_resources_sgdm',\n",
       " '_4_meet_the_team_sit_to',\n",
       " '_4_teams_slides',\n",
       " '_5_chat_about_sgdm',\n",
       " '_5_dashboard_activity',\n",
       " '_5_discuss_with_the_tea',\n",
       " '_6_study_resources_dgsm',\n",
       " '_7_chat_about_dgsm',\n",
       " '_7_dashboard_activity',\n",
       " '_7_discuss_with_the_tea',\n",
       " '_8_gestures_map',\n",
       " '_9_quiz',\n",
       " '__class__',\n",
       " '__delattr__',\n",
       " '__dict__',\n",
       " '__dir__',\n",
       " '__doc__',\n",
       " '__eq__',\n",
       " '__format__',\n",
       " '__ge__',\n",
       " '__getattribute__',\n",
       " '__gt__',\n",
       " '__hash__',\n",
       " '__init__',\n",
       " '__init_subclass__',\n",
       " '__le__',\n",
       " '__lt__',\n",
       " '__module__',\n",
       " '__ne__',\n",
       " '__new__',\n",
       " '__reduce__',\n",
       " '__reduce_ex__',\n",
       " '__repr__',\n",
       " '__setattr__',\n",
       " '__sizeof__',\n",
       " '__str__',\n",
       " '__subclasshook__',\n",
       " '__weakref__']"
      ]
     },
     "execution_count": 98,
     "metadata": {},
     "output_type": "execute_result"
    }
   ],
   "source": [
    "dir(activities)"
   ]
  },
  {
   "cell_type": "code",
   "execution_count": 99,
   "metadata": {
    "scrolled": true
   },
   "outputs": [
    {
     "data": {
      "text/plain": [
       "{'_id': 'ck3yv0jj802lh01ywfr9a7e7b',\n",
       " 'length': 2,\n",
       " 'plane': 3,\n",
       " 'startTime': 19,\n",
       " 'title': 'Dashboard activity',\n",
       " 'activityType': 'ac-dash',\n",
       " 'configVersion': 1,\n",
       " 'graphId': 'ck3yv0jj602l501yw6nbabhtd',\n",
       " 'participationMode': 'projector',\n",
       " 'state': 'computed',\n",
       " 'actualStartingTime': '2019-12-10T09:19:54.988Z',\n",
       " 'actualClosingTime': '2019-12-10T09:21:41.793Z'}"
      ]
     },
     "execution_count": 99,
     "metadata": {},
     "output_type": "execute_result"
    }
   ],
   "source": [
    "activities._10_dashboard_activity.activity"
   ]
  },
  {
   "cell_type": "markdown",
   "metadata": {},
   "source": [
    "Same goes for the operators. But we only have one operator (`._manually_group`) so only this one will be called. Also, getting the content of the `config.json` is done with `.config`"
   ]
  },
  {
   "cell_type": "code",
   "execution_count": 100,
   "metadata": {},
   "outputs": [
    {
     "data": {
      "text/plain": [
       "{'groupingKeys': 'group',\n",
       " 'studentmapping': 'oriane_peter,same1\\nantoine_clivaz,same1\\nguilhem_sicard,same2\\njohan_barthas,same2\\nalfonso_fernandez,same3\\nmarcel_moya,same3\\nnatalia_gullon,same3\\ngiacomo_alliata,same4\\nguido_sergi,same4\\nmax_schnaubelt,same5\\nanel_muhamedagic,same5\\nkiarash_farivar,mixed1\\nambroise_renaud,mixed1\\njoshua_lowin,mixed1\\nsofia_kypraiou,mixed2\\nmahmoud_said,mixed2\\nlukas_deloose,mixed3\\nthanuditha_wickramasinghe,mixed3\\narnaud_garin,mixed3\\nkim_haeeun,mixed4\\ngraziano_rossini,mixed4\\nalexandre_thimonier,mixed5\\nanna_andersson,mixed5\\n',\n",
       " 'defaultGroupingValues': 'undefined'}"
      ]
     },
     "execution_count": 100,
     "metadata": {},
     "output_type": "execute_result"
    }
   ],
   "source": [
    "operators._manually_group.config"
   ]
  },
  {
   "cell_type": "markdown",
   "metadata": {},
   "source": [
    "![og](og.png)"
   ]
  },
  {
   "cell_type": "markdown",
   "metadata": {},
   "source": [
    "---"
   ]
  },
  {
   "cell_type": "code",
   "execution_count": 101,
   "metadata": {},
   "outputs": [
    {
     "data": {
      "text/plain": [
       "{'shuffle': 'none',\n",
       " 'questions': [{'multiple': False,\n",
       "   'text': False,\n",
       "   'value': False,\n",
       "   'answers': [{'choice': 'neck slide'},\n",
       "    {'choice': 'wink'},\n",
       "    {'choice': 'call me'},\n",
       "    {'choice': 'thumbs up'}],\n",
       "   'question': '<p>Which gesture do west African parents use to imply that their children should leave the room when they have guests?</p>'},\n",
       "  {'question': '<p>The “OK” hand gesture considered as an insult in …….. ? <img src=\"/minio/uploads/ck3w6cleb00ad307ivzt9ams9\" width=\"239\" height=\"203\"/></p>',\n",
       "   'answers': [{'choice': 'England'},\n",
       "    {'choice': 'Italy'},\n",
       "    {'choice': 'Mexico'},\n",
       "    {'choice': 'Venezuela'}]},\n",
       "  {'question': '<p>What are you going to lose in Japan, if someone does “the neck slide” gesture to you:<img src=\"/minio/uploads/ck3w6m0ey00ag307ih886dh3g\" width=\"263\" height=\"175\"/></p>',\n",
       "   'answers': [{'choice': 'Your family'},\n",
       "    {'choice': 'Your life'},\n",
       "    {'choice': 'Your job'},\n",
       "    {'choice': 'Your money'}]},\n",
       "  {'question': '<p>You are in Sweden and you are listening to a very interesting story from a friend about their internship they had abroad. To show them you are on the same page as them and don’t want to interrupt the flow of the conversation, you would do what?</p>',\n",
       "   'answers': [{'choice': 'Say “I agree”'},\n",
       "    {'choice': 'Nod and smile'},\n",
       "    {'choice': 'Make a sharp sucking noise'}]},\n",
       "  {'question': '<p>Waving goodbye is considered awful in …….<img src=\"https://www.contiki.com/six-two/wp-content/uploads/2017/08/wave.gif\" width=\"480\" height=\"269\"/></p>',\n",
       "   'answers': [{'choice': 'Turkey'},\n",
       "    {'choice': 'Cyprus'},\n",
       "    {'choice': 'Bulgaria'},\n",
       "    {'choice': 'Sri Lanka'}]},\n",
       "  {'question': '<p>‘Pressing thumbs’ in some German speaking countries traces back to …... <img src=\"/minio/uploads/ck3w7pr7k00b5307ipylq97l9\" width=\"356\" height=\"152\"/></p>',\n",
       "   'answers': [{'choice': 'Ancient Pagan religions'},\n",
       "    {'choice': 'Ancient Romans'},\n",
       "    {'choice': 'Norse clans'}]}],\n",
       " 'guidelines': '<p><br></p>'}"
      ]
     },
     "execution_count": 101,
     "metadata": {},
     "output_type": "execute_result"
    }
   ],
   "source": [
    "activities._10_quiz.config"
   ]
  },
  {
   "cell_type": "code",
   "execution_count": 102,
   "metadata": {},
   "outputs": [
    {
     "data": {
      "text/plain": [
       "{'_id': 'ck3yv0jj802la01yw70jz3lx9',\n",
       " 'length': 2,\n",
       " 'plane': 1,\n",
       " 'startTime': 19,\n",
       " 'title': 'Quiz',\n",
       " 'activityType': 'ac-quiz',\n",
       " 'configVersion': 1,\n",
       " 'graphId': 'ck3yv0jj602l501yw6nbabhtd',\n",
       " 'state': 'computed',\n",
       " 'actualStartingTime': '2019-12-10T09:19:54.172Z',\n",
       " 'actualClosingTime': '2019-12-10T09:21:41.792Z'}"
      ]
     },
     "execution_count": 102,
     "metadata": {},
     "output_type": "execute_result"
    }
   ],
   "source": [
    "activities._10_quiz.activity"
   ]
  },
  {
   "cell_type": "code",
   "execution_count": 103,
   "metadata": {},
   "outputs": [],
   "source": [
    "def quiz_data(quiz):\n",
    "    student_ids = list(map_id_student.keys())\n",
    "    for idx in student_ids: \n",
    "        quiz[map_id_student[idx]] = quiz.pop(idx)\n",
    "        \n",
    "    student_answers = {}\n",
    "    for student in quiz.keys():\n",
    "        if quiz[student][\"data\"][\"answers\"][0]:\n",
    "            student_answers[student] = quiz[student][\"data\"][\"answers\"]\n",
    "    student_answers[\"CORRECT\"] = ['wink', 'Venezuela','Your job','Make a sharp sucking noise','Cyprus','Ancient Romans']\n",
    "    student_answers[\"TYPE\"] = ['SGDM', 'SGDM', 'SGDM', 'DGSM', 'DGSM', 'DGSM']\n",
    "\n",
    "    df = pd.DataFrame(student_answers)\n",
    "    for c in df.columns[:-2]:\n",
    "        df[c] = (df[c] == df.CORRECT).astype(int)\n",
    "    return df"
   ]
  },
  {
   "cell_type": "code",
   "execution_count": 104,
   "metadata": {},
   "outputs": [],
   "source": [
    "map_id_student = activities._10_quiz.object[\"globalStructure\"][\"students\"]\n",
    "df_pre = quiz_data(activities._2_pre_quiz.product[\"payload\"])\n",
    "df_post = quiz_data(activities._10_quiz.product[\"payload\"])"
   ]
  },
  {
   "cell_type": "code",
   "execution_count": 113,
   "metadata": {},
   "outputs": [
    {
     "data": {
      "text/html": [
       "<div>\n",
       "<style scoped>\n",
       "    .dataframe tbody tr th:only-of-type {\n",
       "        vertical-align: middle;\n",
       "    }\n",
       "\n",
       "    .dataframe tbody tr th {\n",
       "        vertical-align: top;\n",
       "    }\n",
       "\n",
       "    .dataframe thead th {\n",
       "        text-align: right;\n",
       "    }\n",
       "</style>\n",
       "<table border=\"1\" class=\"dataframe\">\n",
       "  <thead>\n",
       "    <tr style=\"text-align: right;\">\n",
       "      <th></th>\n",
       "      <th>student</th>\n",
       "      <th>score</th>\n",
       "      <th>score_norm</th>\n",
       "      <th>quiz_type</th>\n",
       "      <th>when</th>\n",
       "    </tr>\n",
       "  </thead>\n",
       "  <tbody>\n",
       "    <tr>\n",
       "      <td>0</td>\n",
       "      <td>louis</td>\n",
       "      <td>0</td>\n",
       "      <td>0.000000</td>\n",
       "      <td>DGSM</td>\n",
       "      <td>PRE-QUIZ</td>\n",
       "    </tr>\n",
       "    <tr>\n",
       "      <td>1</td>\n",
       "      <td>louis</td>\n",
       "      <td>1</td>\n",
       "      <td>33.333333</td>\n",
       "      <td>SGDM</td>\n",
       "      <td>PRE-QUIZ</td>\n",
       "    </tr>\n",
       "    <tr>\n",
       "      <td>2</td>\n",
       "      <td>louis</td>\n",
       "      <td>2</td>\n",
       "      <td>66.666667</td>\n",
       "      <td>DGSM</td>\n",
       "      <td>POST-QUIZ</td>\n",
       "    </tr>\n",
       "    <tr>\n",
       "      <td>3</td>\n",
       "      <td>louis</td>\n",
       "      <td>3</td>\n",
       "      <td>100.000000</td>\n",
       "      <td>SGDM</td>\n",
       "      <td>POST-QUIZ</td>\n",
       "    </tr>\n",
       "    <tr>\n",
       "      <td>4</td>\n",
       "      <td>kevin</td>\n",
       "      <td>1</td>\n",
       "      <td>33.333333</td>\n",
       "      <td>DGSM</td>\n",
       "      <td>PRE-QUIZ</td>\n",
       "    </tr>\n",
       "    <tr>\n",
       "      <td>...</td>\n",
       "      <td>...</td>\n",
       "      <td>...</td>\n",
       "      <td>...</td>\n",
       "      <td>...</td>\n",
       "      <td>...</td>\n",
       "    </tr>\n",
       "    <tr>\n",
       "      <td>75</td>\n",
       "      <td>alfonso_fernandez</td>\n",
       "      <td>3</td>\n",
       "      <td>100.000000</td>\n",
       "      <td>SGDM</td>\n",
       "      <td>POST-QUIZ</td>\n",
       "    </tr>\n",
       "    <tr>\n",
       "      <td>76</td>\n",
       "      <td>natalia_gullon</td>\n",
       "      <td>0</td>\n",
       "      <td>0.000000</td>\n",
       "      <td>DGSM</td>\n",
       "      <td>PRE-QUIZ</td>\n",
       "    </tr>\n",
       "    <tr>\n",
       "      <td>77</td>\n",
       "      <td>natalia_gullon</td>\n",
       "      <td>1</td>\n",
       "      <td>33.333333</td>\n",
       "      <td>SGDM</td>\n",
       "      <td>PRE-QUIZ</td>\n",
       "    </tr>\n",
       "    <tr>\n",
       "      <td>78</td>\n",
       "      <td>natalia_gullon</td>\n",
       "      <td>1</td>\n",
       "      <td>33.333333</td>\n",
       "      <td>DGSM</td>\n",
       "      <td>POST-QUIZ</td>\n",
       "    </tr>\n",
       "    <tr>\n",
       "      <td>79</td>\n",
       "      <td>natalia_gullon</td>\n",
       "      <td>3</td>\n",
       "      <td>100.000000</td>\n",
       "      <td>SGDM</td>\n",
       "      <td>POST-QUIZ</td>\n",
       "    </tr>\n",
       "  </tbody>\n",
       "</table>\n",
       "<p>80 rows × 5 columns</p>\n",
       "</div>"
      ],
      "text/plain": [
       "              student  score  score_norm quiz_type       when\n",
       "0               louis      0    0.000000      DGSM   PRE-QUIZ\n",
       "1               louis      1   33.333333      SGDM   PRE-QUIZ\n",
       "2               louis      2   66.666667      DGSM  POST-QUIZ\n",
       "3               louis      3  100.000000      SGDM  POST-QUIZ\n",
       "4               kevin      1   33.333333      DGSM   PRE-QUIZ\n",
       "..                ...    ...         ...       ...        ...\n",
       "75  alfonso_fernandez      3  100.000000      SGDM  POST-QUIZ\n",
       "76     natalia_gullon      0    0.000000      DGSM   PRE-QUIZ\n",
       "77     natalia_gullon      1   33.333333      SGDM   PRE-QUIZ\n",
       "78     natalia_gullon      1   33.333333      DGSM  POST-QUIZ\n",
       "79     natalia_gullon      3  100.000000      SGDM  POST-QUIZ\n",
       "\n",
       "[80 rows x 5 columns]"
      ]
     },
     "execution_count": 113,
     "metadata": {},
     "output_type": "execute_result"
    }
   ],
   "source": [
    "columns = [\"student\", \"score\", \"score_norm\", \"quiz_type\", \"when\"]\n",
    "data = []\n",
    "\n",
    "for c in df_pre.columns[:-2]:\n",
    "    # pre\n",
    "    student_score = df_pre[[c,'TYPE']].groupby('TYPE').agg(sum).to_dict()[c]\n",
    "    data.append([c, student_score[\"DGSM\"], student_score[\"DGSM\"]/3*100, \"DGSM\", \"PRE-QUIZ\"])\n",
    "    data.append([c, student_score[\"SGDM\"], student_score[\"SGDM\"]/3*100, \"SGDM\", \"PRE-QUIZ\"])\n",
    "\n",
    "    # post\n",
    "    student_score = df_post[[c,'TYPE']].groupby('TYPE').agg(sum).to_dict()[c]\n",
    "    data.append([c, student_score[\"DGSM\"], student_score[\"DGSM\"]/3*100, \"DGSM\", \"POST-QUIZ\"])\n",
    "    data.append([c, student_score[\"SGDM\"], student_score[\"SGDM\"]/3*100, \"SGDM\", \"POST-QUIZ\"])\n",
    "\n",
    "df_student_scores = pd.DataFrame(data, columns=columns)\n",
    "df_student_scores.to_csv(\"scores/quiz_SGDM_DGSM.csv\", index=False)\n",
    "df_student_scores"
   ]
  },
  {
   "cell_type": "markdown",
   "metadata": {},
   "source": [
    "---"
   ]
  },
  {
   "cell_type": "code",
   "execution_count": null,
   "metadata": {
    "scrolled": false
   },
   "outputs": [],
   "source": [
    "obj = activities._10_quiz.product"
   ]
  },
  {
   "cell_type": "code",
   "execution_count": null,
   "metadata": {},
   "outputs": [],
   "source": [
    "teams = list(obj['payload'].keys())\n",
    "answers_pre_quiz_2 = list(obj['payload'].values())"
   ]
  },
  {
   "cell_type": "code",
   "execution_count": null,
   "metadata": {},
   "outputs": [],
   "source": [
    "answers_pre_quiz_2"
   ]
  },
  {
   "cell_type": "code",
   "execution_count": null,
   "metadata": {},
   "outputs": [],
   "source": [
    "del answers_dgsm[1]\n",
    "del teams[1]"
   ]
  },
  {
   "cell_type": "code",
   "execution_count": null,
   "metadata": {},
   "outputs": [],
   "source": [
    "import re\n",
    "\n",
    "def cleanhtml(raw_html):\n",
    "    cleanr = re.compile('<.*?>')\n",
    "    cleantext = re.sub(cleanr, '', raw_html)\n",
    "    return cleantext"
   ]
  },
  {
   "cell_type": "code",
   "execution_count": null,
   "metadata": {},
   "outputs": [],
   "source": [
    "count = 0\n",
    "pre_quiz_2 = []\n",
    "\n",
    "for i in range(len(answers_dgsm)):\n",
    "    try:\n",
    "        username = answers_pre_quiz_2[i]['data']['msg'].split()[0]\n",
    "        answers = dict(zip([cleanhtml(x).strip() for x in answers_pre_quiz_2[i]['data']['questions']], answers_pre_quiz_2[i]['data']['answers']))\n",
    "        pre_quiz_2.append((username, answers))\n",
    "    except:\n",
    "        count += 1\n",
    "        print(count)"
   ]
  },
  {
   "cell_type": "code",
   "execution_count": null,
   "metadata": {
    "scrolled": false
   },
   "outputs": [],
   "source": [
    "pre_quiz_2"
   ]
  },
  {
   "cell_type": "code",
   "execution_count": null,
   "metadata": {},
   "outputs": [],
   "source": [
    "len(pre_quiz_2)"
   ]
  },
  {
   "cell_type": "code",
   "execution_count": null,
   "metadata": {},
   "outputs": [],
   "source": [
    "pre_quiz_2[-1] = list(pre_quiz_2[-1])\n",
    "pre_quiz_2[-1][0] = 'mixed2'\n",
    "pre_quiz_2[-1] = tuple(pre_quiz_2[-1])"
   ]
  },
  {
   "cell_type": "code",
   "execution_count": null,
   "metadata": {},
   "outputs": [],
   "source": [
    "np.save('Final_Quiz_Answers', np.array(pre_quiz_2))"
   ]
  },
  {
   "cell_type": "markdown",
   "metadata": {},
   "source": [
    "***"
   ]
  },
  {
   "cell_type": "code",
   "execution_count": null,
   "metadata": {},
   "outputs": [],
   "source": [
    "def score(lst1, lst2): \n",
    "    lst3 = [value for value in lst1 if value in lst2] \n",
    "    return len(lst3)"
   ]
  },
  {
   "cell_type": "code",
   "execution_count": null,
   "metadata": {},
   "outputs": [],
   "source": [
    "quiz = np.load('DGSM_Answers.npy', allow_pickle=True)\n",
    "answers = pd.read_csv('DGSM_Correct_Answers.tsv', sep='\\t', header=None)"
   ]
  },
  {
   "cell_type": "code",
   "execution_count": null,
   "metadata": {},
   "outputs": [],
   "source": [
    "answers"
   ]
  },
  {
   "cell_type": "code",
   "execution_count": null,
   "metadata": {},
   "outputs": [],
   "source": [
    "scores = {}\n",
    "\n",
    "for i in range(len(quiz)):\n",
    "    user = quiz[i][0]\n",
    "    s_ = score(list(quiz[i][1].values()), list(answers.iloc[:,1]))\n",
    "    scores[user] = [s_, s_/len(list(answers.iloc[:,1]))]"
   ]
  },
  {
   "cell_type": "code",
   "execution_count": null,
   "metadata": {},
   "outputs": [],
   "source": [
    "scores"
   ]
  },
  {
   "cell_type": "code",
   "execution_count": null,
   "metadata": {},
   "outputs": [],
   "source": [
    "list(quiz[9][1].values())"
   ]
  },
  {
   "cell_type": "code",
   "execution_count": null,
   "metadata": {},
   "outputs": [],
   "source": [
    "list(answers.iloc[:,1])"
   ]
  },
  {
   "cell_type": "code",
   "execution_count": null,
   "metadata": {},
   "outputs": [],
   "source": [
    "np.save('scores/Map_Scores.npy', map_score)"
   ]
  },
  {
   "cell_type": "code",
   "execution_count": null,
   "metadata": {},
   "outputs": [],
   "source": [
    "np.load('scores/Map_Scores.npy', allow_pickle=True).item()"
   ]
  },
  {
   "cell_type": "code",
   "execution_count": null,
   "metadata": {},
   "outputs": [],
   "source": [
    "map_score = np.load('scores/Map_Scores.npy', allow_pickle=True)"
   ]
  },
  {
   "cell_type": "code",
   "execution_count": null,
   "metadata": {},
   "outputs": [],
   "source": [
    "scores = [[int(x), int(x)/3] for x in map_score[:,1].tolist()]"
   ]
  },
  {
   "cell_type": "code",
   "execution_count": null,
   "metadata": {},
   "outputs": [],
   "source": [
    "users = map_score[:,0].tolist()"
   ]
  },
  {
   "cell_type": "code",
   "execution_count": null,
   "metadata": {},
   "outputs": [],
   "source": [
    "map_score = dict(zip(users,scores))"
   ]
  },
  {
   "cell_type": "markdown",
   "metadata": {
    "collapsed": true
   },
   "source": [
    "---"
   ]
  }
 ],
 "metadata": {
  "anaconda-cloud": {},
  "kernelspec": {
   "display_name": "Python 3",
   "language": "python",
   "name": "python3"
  },
  "language_info": {
   "codemirror_mode": {
    "name": "ipython",
    "version": 3
   },
   "file_extension": ".py",
   "mimetype": "text/x-python",
   "name": "python",
   "nbconvert_exporter": "python",
   "pygments_lexer": "ipython3",
   "version": "3.6.8"
  }
 },
 "nbformat": 4,
 "nbformat_minor": 2
}
